{
 "cells": [
  {
   "cell_type": "markdown",
   "metadata": {},
   "source": [
    "##  Sentinel-3 SLSTR composites"
   ]
  },
  {
   "cell_type": "markdown",
   "metadata": {},
   "source": [
    "### Service Definition"
   ]
  },
  {
   "cell_type": "code",
   "execution_count": 1,
   "metadata": {},
   "outputs": [],
   "source": [
    "service = dict([('title', 'Sentinel-3 SLSTR Level-2 reprojection and tiling'),\n",
    "                ('abstract', 'This service takes as input a Sentinel-3 SLSTR Level 2 (SL_2_LST____) product on DESCENDING pass and does the reprojection and tiling'),\n",
    "                ('id', 'ewf-wfp-03-01-02')])"
   ]
  },
  {
   "cell_type": "markdown",
   "metadata": {},
   "source": [
    "### Parameter Definition "
   ]
  },
  {
   "cell_type": "markdown",
   "metadata": {},
   "source": [
    "### Runtime parameter definition"
   ]
  },
  {
   "cell_type": "markdown",
   "metadata": {},
   "source": [
    "**Input reference**\n",
    "\n",
    "The input identifier is the catalogue entry URL (a.k.a. self value)."
   ]
  },
  {
   "cell_type": "code",
   "execution_count": 2,
   "metadata": {},
   "outputs": [],
   "source": [
    "input_reference = dict([('identifier', 'input_reference'),\n",
    "                        ('title', 'Sentinel-3 SLSTR Level-2 (SL_2_LST____ descending pass)'),\n",
    "                        ('abstract', 'This service takes as input a Sentinel-3 SLSTR Level 2 (SL_2_LST____) product on DESCENDING pass'),\n",
    "                        ('value', 'https://catalog.terradue.com/sentinel3/search?format=json&uid=S3B_SL_2_LST____20200613T070835_20200613T071135_20200613T085802_0179_040_063_2880_LN2_O_NR_004'),\n",
    "                        ('stac:collection', 'input_reference'),\n",
    "                        ('stac:href', 'catalog.json'),\n",
    "                        ('max_occurs', '16')])"
   ]
  },
  {
   "cell_type": "code",
   "execution_count": 3,
   "metadata": {},
   "outputs": [],
   "source": [
    "tiling_level = dict([('identifier', 'tiling_level'),\n",
    "                ('value', '5'),\n",
    "                ('title', 'Tiling level'),\n",
    "                ('abstract', 'Tiling level'),\n",
    "                ('max_occurs', '1')])\n"
   ]
  },
  {
   "cell_type": "markdown",
   "metadata": {},
   "source": [
    "**Data path**\n",
    "\n",
    "This path defines where the data is staged-in. "
   ]
  },
  {
   "cell_type": "code",
   "execution_count": 4,
   "metadata": {},
   "outputs": [],
   "source": [
    "data_path = '/workspace/data/slstr'"
   ]
  },
  {
   "cell_type": "code",
   "execution_count": 5,
   "metadata": {},
   "outputs": [],
   "source": [
    "input_catalog = '/workspace/data/slstr/catalog.json'"
   ]
  },
  {
   "cell_type": "markdown",
   "metadata": {},
   "source": [
    "### Workflow"
   ]
  },
  {
   "cell_type": "markdown",
   "metadata": {},
   "source": [
    "#### Import the packages"
   ]
  },
  {
   "cell_type": "code",
   "execution_count": 6,
   "metadata": {},
   "outputs": [
    {
     "ename": "ImportError",
     "evalue": "/opt/anaconda/envs/env_s3/lib/python3.5/site-packages/osgeo/../../../libgdal.so.20: undefined symbol: _ZN6kealib10KEAImageIO16setImageMetaDataENSt7__cxx1112basic_stringIcSt11char_traitsIcESaIcEEES6_",
     "output_type": "error",
     "traceback": [
      "\u001b[0;31m---------------------------------------------------------------------------\u001b[0m",
      "\u001b[0;31mImportError\u001b[0m                               Traceback (most recent call last)",
      "\u001b[0;32m<ipython-input-6-47d5be36707b>\u001b[0m in \u001b[0;36m<module>\u001b[0;34m\u001b[0m\n\u001b[1;32m      3\u001b[0m \u001b[0;32mimport\u001b[0m \u001b[0msys\u001b[0m\u001b[0;34m\u001b[0m\u001b[0m\n\u001b[1;32m      4\u001b[0m \u001b[0msys\u001b[0m\u001b[0;34m.\u001b[0m\u001b[0mpath\u001b[0m\u001b[0;34m.\u001b[0m\u001b[0mappend\u001b[0m\u001b[0;34m(\u001b[0m\u001b[0;34m'.'\u001b[0m\u001b[0;34m)\u001b[0m\u001b[0;34m\u001b[0m\u001b[0m\n\u001b[0;32m----> 5\u001b[0;31m \u001b[0;32mimport\u001b[0m \u001b[0mgdal\u001b[0m\u001b[0;34m\u001b[0m\u001b[0m\n\u001b[0m\u001b[1;32m      6\u001b[0m \u001b[0;32mfrom\u001b[0m \u001b[0mhelpers\u001b[0m \u001b[0;32mimport\u001b[0m \u001b[0;34m*\u001b[0m\u001b[0;34m\u001b[0m\u001b[0m\n\u001b[1;32m      7\u001b[0m \u001b[0;32mfrom\u001b[0m \u001b[0mshapely\u001b[0m\u001b[0;34m.\u001b[0m\u001b[0mwkt\u001b[0m \u001b[0;32mimport\u001b[0m \u001b[0mloads\u001b[0m\u001b[0;34m\u001b[0m\u001b[0m\n",
      "\u001b[0;32m/opt/anaconda/envs/env_s3/lib/python3.5/site-packages/gdal.py\u001b[0m in \u001b[0;36m<module>\u001b[0;34m\u001b[0m\n\u001b[1;32m      1\u001b[0m \u001b[0;31m# import osgeo.gdal as a convenience\u001b[0m\u001b[0;34m\u001b[0m\u001b[0;34m\u001b[0m\u001b[0m\n\u001b[0;32m----> 2\u001b[0;31m \u001b[0;32mfrom\u001b[0m \u001b[0mosgeo\u001b[0m\u001b[0;34m.\u001b[0m\u001b[0mgdal\u001b[0m \u001b[0;32mimport\u001b[0m \u001b[0mdeprecation_warn\u001b[0m\u001b[0;34m\u001b[0m\u001b[0m\n\u001b[0m\u001b[1;32m      3\u001b[0m \u001b[0mdeprecation_warn\u001b[0m\u001b[0;34m(\u001b[0m\u001b[0;34m'gdal'\u001b[0m\u001b[0;34m)\u001b[0m\u001b[0;34m\u001b[0m\u001b[0m\n\u001b[1;32m      4\u001b[0m \u001b[0;34m\u001b[0m\u001b[0m\n\u001b[1;32m      5\u001b[0m \u001b[0;32mfrom\u001b[0m \u001b[0mosgeo\u001b[0m\u001b[0;34m.\u001b[0m\u001b[0mgdal\u001b[0m \u001b[0;32mimport\u001b[0m \u001b[0;34m*\u001b[0m\u001b[0;34m\u001b[0m\u001b[0m\n",
      "\u001b[0;32m/opt/anaconda/envs/env_s3/lib/python3.5/site-packages/osgeo/__init__.py\u001b[0m in \u001b[0;36m<module>\u001b[0;34m\u001b[0m\n\u001b[1;32m     19\u001b[0m                 \u001b[0mfp\u001b[0m\u001b[0;34m.\u001b[0m\u001b[0mclose\u001b[0m\u001b[0;34m(\u001b[0m\u001b[0;34m)\u001b[0m\u001b[0;34m\u001b[0m\u001b[0m\n\u001b[1;32m     20\u001b[0m             \u001b[0;32mreturn\u001b[0m \u001b[0m_mod\u001b[0m\u001b[0;34m\u001b[0m\u001b[0m\n\u001b[0;32m---> 21\u001b[0;31m     \u001b[0m_gdal\u001b[0m \u001b[0;34m=\u001b[0m \u001b[0mswig_import_helper\u001b[0m\u001b[0;34m(\u001b[0m\u001b[0;34m)\u001b[0m\u001b[0;34m\u001b[0m\u001b[0m\n\u001b[0m\u001b[1;32m     22\u001b[0m     \u001b[0;32mdel\u001b[0m \u001b[0mswig_import_helper\u001b[0m\u001b[0;34m\u001b[0m\u001b[0m\n\u001b[1;32m     23\u001b[0m \u001b[0;32melse\u001b[0m\u001b[0;34m:\u001b[0m\u001b[0;34m\u001b[0m\u001b[0m\n",
      "\u001b[0;32m/opt/anaconda/envs/env_s3/lib/python3.5/site-packages/osgeo/__init__.py\u001b[0m in \u001b[0;36mswig_import_helper\u001b[0;34m()\u001b[0m\n\u001b[1;32m     15\u001b[0m         \u001b[0;32mif\u001b[0m \u001b[0mfp\u001b[0m \u001b[0;32mis\u001b[0m \u001b[0;32mnot\u001b[0m \u001b[0;32mNone\u001b[0m\u001b[0;34m:\u001b[0m\u001b[0;34m\u001b[0m\u001b[0m\n\u001b[1;32m     16\u001b[0m             \u001b[0;32mtry\u001b[0m\u001b[0;34m:\u001b[0m\u001b[0;34m\u001b[0m\u001b[0m\n\u001b[0;32m---> 17\u001b[0;31m                 \u001b[0m_mod\u001b[0m \u001b[0;34m=\u001b[0m \u001b[0mimp\u001b[0m\u001b[0;34m.\u001b[0m\u001b[0mload_module\u001b[0m\u001b[0;34m(\u001b[0m\u001b[0;34m'_gdal'\u001b[0m\u001b[0;34m,\u001b[0m \u001b[0mfp\u001b[0m\u001b[0;34m,\u001b[0m \u001b[0mpathname\u001b[0m\u001b[0;34m,\u001b[0m \u001b[0mdescription\u001b[0m\u001b[0;34m)\u001b[0m\u001b[0;34m\u001b[0m\u001b[0m\n\u001b[0m\u001b[1;32m     18\u001b[0m             \u001b[0;32mfinally\u001b[0m\u001b[0;34m:\u001b[0m\u001b[0;34m\u001b[0m\u001b[0m\n\u001b[1;32m     19\u001b[0m                 \u001b[0mfp\u001b[0m\u001b[0;34m.\u001b[0m\u001b[0mclose\u001b[0m\u001b[0;34m(\u001b[0m\u001b[0;34m)\u001b[0m\u001b[0;34m\u001b[0m\u001b[0m\n",
      "\u001b[0;32m/opt/anaconda/envs/env_s3/lib/python3.5/imp.py\u001b[0m in \u001b[0;36mload_module\u001b[0;34m(name, file, filename, details)\u001b[0m\n\u001b[1;32m    241\u001b[0m                 \u001b[0;32mreturn\u001b[0m \u001b[0mload_dynamic\u001b[0m\u001b[0;34m(\u001b[0m\u001b[0mname\u001b[0m\u001b[0;34m,\u001b[0m \u001b[0mfilename\u001b[0m\u001b[0;34m,\u001b[0m \u001b[0mopened_file\u001b[0m\u001b[0;34m)\u001b[0m\u001b[0;34m\u001b[0m\u001b[0m\n\u001b[1;32m    242\u001b[0m         \u001b[0;32melse\u001b[0m\u001b[0;34m:\u001b[0m\u001b[0;34m\u001b[0m\u001b[0m\n\u001b[0;32m--> 243\u001b[0;31m             \u001b[0;32mreturn\u001b[0m \u001b[0mload_dynamic\u001b[0m\u001b[0;34m(\u001b[0m\u001b[0mname\u001b[0m\u001b[0;34m,\u001b[0m \u001b[0mfilename\u001b[0m\u001b[0;34m,\u001b[0m \u001b[0mfile\u001b[0m\u001b[0;34m)\u001b[0m\u001b[0;34m\u001b[0m\u001b[0m\n\u001b[0m\u001b[1;32m    244\u001b[0m     \u001b[0;32melif\u001b[0m \u001b[0mtype_\u001b[0m \u001b[0;34m==\u001b[0m \u001b[0mPKG_DIRECTORY\u001b[0m\u001b[0;34m:\u001b[0m\u001b[0;34m\u001b[0m\u001b[0m\n\u001b[1;32m    245\u001b[0m         \u001b[0;32mreturn\u001b[0m \u001b[0mload_package\u001b[0m\u001b[0;34m(\u001b[0m\u001b[0mname\u001b[0m\u001b[0;34m,\u001b[0m \u001b[0mfilename\u001b[0m\u001b[0;34m)\u001b[0m\u001b[0;34m\u001b[0m\u001b[0m\n",
      "\u001b[0;32m/opt/anaconda/envs/env_s3/lib/python3.5/imp.py\u001b[0m in \u001b[0;36mload_dynamic\u001b[0;34m(name, path, file)\u001b[0m\n\u001b[1;32m    341\u001b[0m         spec = importlib.machinery.ModuleSpec(\n\u001b[1;32m    342\u001b[0m             name=name, loader=loader, origin=path)\n\u001b[0;32m--> 343\u001b[0;31m         \u001b[0;32mreturn\u001b[0m \u001b[0m_load\u001b[0m\u001b[0;34m(\u001b[0m\u001b[0mspec\u001b[0m\u001b[0;34m)\u001b[0m\u001b[0;34m\u001b[0m\u001b[0m\n\u001b[0m\u001b[1;32m    344\u001b[0m \u001b[0;34m\u001b[0m\u001b[0m\n\u001b[1;32m    345\u001b[0m \u001b[0;32melse\u001b[0m\u001b[0;34m:\u001b[0m\u001b[0;34m\u001b[0m\u001b[0m\n",
      "\u001b[0;31mImportError\u001b[0m: /opt/anaconda/envs/env_s3/lib/python3.5/site-packages/osgeo/../../../libgdal.so.20: undefined symbol: _ZN6kealib10KEAImageIO16setImageMetaDataENSt7__cxx1112basic_stringIcSt11char_traitsIcESaIcEEES6_"
     ]
    }
   ],
   "source": [
    "import os\n",
    "os.environ['PREFIX'] = '/opt/anaconda/envs/env_s3/'\n",
    "import sys\n",
    "sys.path.append('.')\n",
    "import gdal\n",
    "from helpers import *\n",
    "from shapely.wkt import loads\n",
    "from shapely.geometry import box\n",
    "from shapely.geometry import shape\n",
    "import shutil\n",
    "from pystac import Catalog, Collection, Item, MediaType, Asset, CatalogType\n",
    "\n",
    "from tiling import s3_tiles\n",
    "import time\n",
    "import glob\n",
    "\n",
    "gdal.UseExceptions()"
   ]
  },
  {
   "cell_type": "code",
   "execution_count": null,
   "metadata": {},
   "outputs": [],
   "source": [
    "%load_ext autoreload\n",
    "%autoreload 2"
   ]
  },
  {
   "cell_type": "code",
   "execution_count": null,
   "metadata": {},
   "outputs": [],
   "source": [
    "cat = Catalog.from_file(input_catalog)\n",
    "\n",
    "if cat is None:\n",
    "    raise ValueError()"
   ]
  },
  {
   "cell_type": "code",
   "execution_count": null,
   "metadata": {},
   "outputs": [],
   "source": [
    "collection = next(cat.get_children())"
   ]
  },
  {
   "cell_type": "code",
   "execution_count": null,
   "metadata": {},
   "outputs": [],
   "source": [
    "item = next(collection.get_items())"
   ]
  },
  {
   "cell_type": "code",
   "execution_count": null,
   "metadata": {},
   "outputs": [],
   "source": [
    "item.properties['eop:orbitDirection']"
   ]
  },
  {
   "cell_type": "code",
   "execution_count": null,
   "metadata": {},
   "outputs": [],
   "source": [
    "if item.properties['eop:orbitDirection'] != 'DESCENDING':\n",
    "    ciop.log('ERROR','Product cannot be used as input')\n",
    "    raise Exception('Use products with descending orbit direction')"
   ]
  },
  {
   "cell_type": "code",
   "execution_count": null,
   "metadata": {},
   "outputs": [],
   "source": [
    "s3_wkt = shape(item.geometry).wkt"
   ]
  },
  {
   "cell_type": "markdown",
   "metadata": {},
   "source": [
    "### Import Sentinel-3 SLSTR product"
   ]
  },
  {
   "cell_type": "code",
   "execution_count": null,
   "metadata": {},
   "outputs": [],
   "source": [
    "operators = ['Read', \n",
    "             'Reproject',\n",
    "             'Write']"
   ]
  },
  {
   "cell_type": "code",
   "execution_count": null,
   "metadata": {},
   "outputs": [],
   "source": [
    "read = dict()\n",
    "\n",
    "s3_path = item.assets['metadata'].get_absolute_href()\n",
    "\n",
    "read['file'] =  s3_path\n",
    "read['formatName'] = 'Sen3'\n",
    "\n",
    "reproject = dict()\n",
    "reproject['crs'] = 'EPSG:4326'\n",
    "\n",
    "write = dict()\n",
    "write['file'] = 's3_slstr'"
   ]
  },
  {
   "cell_type": "code",
   "execution_count": null,
   "metadata": {},
   "outputs": [],
   "source": [
    "snap_graph(os.environ['GPT_BIN'],\n",
    "           operators,\n",
    "           Read=read, \n",
    "           Reproject=reproject,\n",
    "           Write=write)"
   ]
  },
  {
   "cell_type": "code",
   "execution_count": null,
   "metadata": {},
   "outputs": [],
   "source": [
    "def s3_to_tile(input_tif, item, tile):\n",
    "    \n",
    "    translate_options = gdal.TranslateOptions(gdal.ParseCommandLine(\"-co TILED=YES -co COPY_SRC_OVERVIEWS=YES -co COMPRESS=LZW\"))\n",
    "        \n",
    "    x_min, y_min, x_max, y_max = tile.tile.bounds\n",
    "\n",
    "    output_tile_name = '{}_L{}_C{}_R{}'.format(item.id,\n",
    "                                                    tile.level,\n",
    "                                                    tile.col,\n",
    "                                                    tile.row)\n",
    "\n",
    "\n",
    "    gdal.Translate('tmp_{}.tif'.format(output_tile_name),\n",
    "                   input_tif,\n",
    "                   projWin=[x_min, y_max, x_max, y_min],\n",
    "                   projWinSRS='EPSG:4326')\n",
    "\n",
    "    ds = gdal.Open('tmp_{}.tif'.format(output_tile_name),\n",
    "                   gdal.OF_READONLY)\n",
    "\n",
    "    gdal.SetConfigOption('COMPRESS_OVERVIEW', 'DEFLATE')\n",
    "    ds.BuildOverviews('NEAREST', [2,4,8,16,32])\n",
    "    ds = None\n",
    "\n",
    "    ds = gdal.Open('tmp_{}.tif'.format(output_tile_name))\n",
    "    ds = gdal.Translate('{}.tif'.format(output_tile_name), ds, options=translate_options)\n",
    "    ds = None\n",
    "\n",
    "    band_names = ['LST', 'NDVI', 'Land mask', 'Cloud mask']\n",
    "\n",
    "    ds = gdal.Open('{}.tif'.format(output_tile_name), gdal.GA_Update)\n",
    "\n",
    "    # update extended area to -10000 instead of 0 as gdal.trasnlate does\n",
    "    ndvi_data = ds.GetRasterBand(1).ReadAsArray()\n",
    "    land_data = ds.GetRasterBand(2).ReadAsArray()\n",
    "    cloud_data = ds.GetRasterBand(3).ReadAsArray()\n",
    "    \n",
    "    updated_ndvi_data = np.full(ndvi_data.shape, -10000)\n",
    "    \n",
    "    updated_ndvi_data = np.where((land_data == 1) | (cloud_data == 1), \n",
    "                                 ndvi_data, -10000)\n",
    "    \n",
    "    ds.GetRasterBand(1).WriteArray(updated_ndvi_data)\n",
    "    \n",
    "    ds.FlushCache()\n",
    "    \n",
    "    ds = None\n",
    "    \n",
    "    ds = gdal.Open('{}.tif'.format(output_tile_name), gdal.GA_Update)\n",
    "    \n",
    "    for index in range(ds.RasterCount):\n",
    "\n",
    "        srcband = ds.GetRasterBand(index+1)\n",
    "\n",
    "        srcband.SetDescription(band_names[index])\n",
    "\n",
    "        if index == 0:\n",
    "            \n",
    "            srcband.SetNoDataValue(-10000)\n",
    "    \n",
    "    ds.FlushCache()\n",
    "\n",
    "    ds = None\n",
    "    \n",
    "    with open(output_tile_name + '.properties', 'w') as file:\n",
    "\n",
    "        file.write('title=Tile L:{1} C:{2} R:{3} {0}\\n'.format(item.id,\n",
    "                                                              tile.level, \n",
    "                                                              tile.col, \n",
    "                                                              tile.row))\n",
    "        \n",
    "        file.write('date={}/{}\\n'.format(item.datetime.strftime('%Y-%m-%dT%H:%M:%sZ'), \n",
    "                                         item.datetime.strftime('%Y-%m-%dT%H:%M:%sZ')))\n",
    "        \n",
    "        file.write('geometry={0}'.format(tile.tile.wkt))\n",
    "\n",
    "\n",
    "    for f in ['tmp_{}.tif'.format(output_tile_name), 'tmp_{}.tif.ovr'.format(output_tile_name)]:\n",
    "\n",
    "        if os.path.exists(f):\n",
    "\n",
    "            os.remove(f)\n",
    "    \n",
    "    return True\n",
    "    "
   ]
  },
  {
   "cell_type": "markdown",
   "metadata": {},
   "source": [
    "### Tiling"
   ]
  },
  {
   "cell_type": "code",
   "execution_count": null,
   "metadata": {},
   "outputs": [],
   "source": [
    "bands = [os.path.join('s3_slstr.data', '{}.img'.format(band)) for band in ['LST', 'NDVI', 'cloud_in', 'confidence_in']]\n",
    "        \n",
    "s3_data = read_s3(bands)\n",
    "        "
   ]
  },
  {
   "cell_type": "code",
   "execution_count": null,
   "metadata": {},
   "outputs": [],
   "source": [
    "ds = gdal.Open(bands[0])\n",
    "\n",
    "geo_transform = ds.GetGeoTransform()\n",
    "projection_ref = ds.GetProjectionRef()\n",
    "    "
   ]
  },
  {
   "cell_type": "code",
   "execution_count": null,
   "metadata": {},
   "outputs": [],
   "source": [
    "lst = s3_data[:,:,0]\n",
    "ndvi = s3_data[:,:,1]\n",
    "cloud = s3_data[:,:,2]\n",
    "confidence = s3_data[:,:,3]"
   ]
  },
  {
   "cell_type": "code",
   "execution_count": null,
   "metadata": {},
   "outputs": [],
   "source": [
    "mask = get_slstr_confidence_mask('land', confidence)"
   ]
  },
  {
   "cell_type": "code",
   "execution_count": null,
   "metadata": {},
   "outputs": [],
   "source": [
    "cloud_mask =  get_slstr_mask('gross_cloud', cloud)"
   ]
  },
  {
   "cell_type": "code",
   "execution_count": null,
   "metadata": {},
   "outputs": [],
   "source": [
    "output_name = 'temp.tif'"
   ]
  },
  {
   "cell_type": "code",
   "execution_count": null,
   "metadata": {},
   "outputs": [],
   "source": [
    "driver = gdal.GetDriverByName('GTiff')\n",
    "\n",
    "output = driver.Create(output_name, \n",
    "                       lst.shape[1], \n",
    "                       lst.shape[0], \n",
    "                       4, \n",
    "                       gdal.GDT_Float32)\n",
    "\n",
    "output.SetGeoTransform(geo_transform)\n",
    "output.SetProjection(projection_ref)\n",
    "output.GetRasterBand(1).WriteArray(lst)\n",
    "output.GetRasterBand(2).WriteArray(ndvi)\n",
    "output.GetRasterBand(3).WriteArray(mask)\n",
    "output.GetRasterBand(4).WriteArray(cloud_mask)\n",
    "\n",
    "output.FlushCache()\n",
    "\n",
    "output = None"
   ]
  },
  {
   "cell_type": "code",
   "execution_count": null,
   "metadata": {},
   "outputs": [],
   "source": [
    "tiles = s3_tiles(shape(item.geometry), int(tiling_level['value']))\n"
   ]
  },
  {
   "cell_type": "code",
   "execution_count": null,
   "metadata": {},
   "outputs": [],
   "source": [
    "tiles"
   ]
  },
  {
   "cell_type": "code",
   "execution_count": null,
   "metadata": {},
   "outputs": [],
   "source": [
    "for index, tile in tiles.iterrows():\n",
    "    \n",
    "    logging.info('Tile L{} C{} R{}'.format(tile.level,\n",
    "                                       tile.col,\n",
    "                                       tile.row))\n",
    "\n",
    "\n",
    "    s3_to_tile(output_name, item, tile)"
   ]
  },
  {
   "cell_type": "code",
   "execution_count": null,
   "metadata": {},
   "outputs": [],
   "source": [
    "logging.info('Clean-up') \n",
    "os.remove(output_name)\n",
    "\n",
    "shutil.rmtree('s3_slstr.data')\n",
    "os.remove('s3_slstr.dim')\n",
    "\n",
    "time.sleep(45)\n",
    "\n",
    "for f in glob.glob('./*.tif.aux.xml'):\n",
    "\n",
    "    os.remove(f)\n"
   ]
  },
  {
   "cell_type": "markdown",
   "metadata": {},
   "source": [
    "### License"
   ]
  },
  {
   "cell_type": "markdown",
   "metadata": {},
   "source": [
    "This work is licenced under a [Attribution-ShareAlike 4.0 International License (CC BY-SA 4.0)](http://creativecommons.org/licenses/by-sa/4.0/) \n",
    "\n",
    "YOU ARE FREE TO:\n",
    "\n",
    "* Share - copy and redistribute the material in any medium or format.\n",
    "* Adapt - remix, transform, and built upon the material for any purpose, even commercially.\n",
    "\n",
    "UNDER THE FOLLOWING TERMS:\n",
    "\n",
    "* Attribution - You must give appropriate credit, provide a link to the license, and indicate if changes were made. You may do so in any reasonable manner, but not in any way that suggests the licensor endorses you or your use.\n",
    "* ShareAlike - If you remix, transform, or build upon the material, you must distribute your contributions under the same license as the original."
   ]
  },
  {
   "cell_type": "code",
   "execution_count": null,
   "metadata": {},
   "outputs": [],
   "source": []
  }
 ],
 "metadata": {
  "kernelspec": {
   "display_name": "Python [conda env:env_s3]",
   "language": "python",
   "name": "conda-env-env_s3-py"
  },
  "language_info": {
   "codemirror_mode": {
    "name": "ipython",
    "version": 3
   },
   "file_extension": ".py",
   "mimetype": "text/x-python",
   "name": "python",
   "nbconvert_exporter": "python",
   "pygments_lexer": "ipython3",
   "version": "3.5.5"
  }
 },
 "nbformat": 4,
 "nbformat_minor": 4
}
