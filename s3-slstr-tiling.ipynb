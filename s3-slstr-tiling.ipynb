{
 "cells": [
  {
   "cell_type": "markdown",
   "metadata": {},
   "source": [
    "##  Sentinel-3 SLSTR tiling"
   ]
  },
  {
   "cell_type": "markdown",
   "metadata": {},
   "source": [
    "### Service Definition"
   ]
  },
  {
   "cell_type": "code",
   "execution_count": 1,
   "metadata": {},
   "outputs": [],
   "source": [
    "service = dict([('title', 'Sentinel-3 SLSTR Level-2 reprojection and tiling'),\n",
    "                ('abstract', 'This service takes as input a Sentinel-3 SLSTR Level 2 (SL_2_LST____) product on DESCENDING pass and does the reprojection and tiling'),\n",
    "                ('identifier', 'ewf-wfp-03-01-02')])"
   ]
  },
  {
   "cell_type": "markdown",
   "metadata": {},
   "source": [
    "### Parameter Definition "
   ]
  },
  {
   "cell_type": "markdown",
   "metadata": {},
   "source": [
    "### Runtime parameter definition"
   ]
  },
  {
   "cell_type": "markdown",
   "metadata": {},
   "source": [
    "**Input reference**\n",
    "\n",
    "The input identifier is the catalogue entry URL (a.k.a. self value)."
   ]
  },
  {
   "cell_type": "code",
   "execution_count": 2,
   "metadata": {},
   "outputs": [],
   "source": [
    "input_reference = dict([('identifier', 'input_reference'),\n",
    "                        ('title', 'Sentinel-3 SLSTR Level-2 (SL_2_LST____ descending pass)'),\n",
    "                        ('abstract', 'This service takes as input a Sentinel-3 SLSTR Level 2 (SL_2_LST____) product on DESCENDING pass'),\n",
    "                        ('value', 'https://catalog.terradue.com/sentinel3/search?format=json&uid=S3A_SL_2_LST____20200422T063257_20200422T081356_20200423T193710_6059_057_234______LN2_O_NT_004'),\n",
    "                        ('stac:collection', 'input_reference'),\n",
    "                        ('stac:href', 'catalog.json'),\n",
    "                        ('max_occurs', '16')])"
   ]
  },
  {
   "cell_type": "code",
   "execution_count": 3,
   "metadata": {},
   "outputs": [],
   "source": [
    "tiling_level = dict([('identifier', 'tiling_level'),\n",
    "                ('value', '5'),\n",
    "                ('title', 'Tiling level'),\n",
    "                ('abstract', 'Tiling level'),\n",
    "                ('max_occurs', '1')])\n"
   ]
  },
  {
   "cell_type": "code",
   "execution_count": 4,
   "metadata": {},
   "outputs": [],
   "source": [
    "aoi = dict([('identifier', 'aoi'),\n",
    "                ('value', 'POLYGON ((26.016000747680664 -2.1089999675750732, 59.0629997253418 -2.1089999675750732, 59.0629997253418 12.211000442504883, 26.016000747680664 12.211000442504883, 26.016000747680664 -2.1089999675750732, 26.016000747680664 -2.1089999675750732))'),\n",
    "                ('title', 'Area of Interest'),\n",
    "                ('abstract', 'Area of Interest'),\n",
    "                ('max_occurs', '1')])\n"
   ]
  },
  {
   "cell_type": "markdown",
   "metadata": {},
   "source": [
    "**Data path**\n",
    "\n",
    "This path defines where the data is staged-in. "
   ]
  },
  {
   "cell_type": "code",
   "execution_count": 5,
   "metadata": {},
   "outputs": [],
   "source": [
    "data_path = '/workspace/'"
   ]
  },
  {
   "cell_type": "code",
   "execution_count": 6,
   "metadata": {},
   "outputs": [],
   "source": [
    "input_catalog = '/workspace/catalog.json'"
   ]
  },
  {
   "cell_type": "markdown",
   "metadata": {},
   "source": [
    "### Workflow"
   ]
  },
  {
   "cell_type": "markdown",
   "metadata": {},
   "source": [
    "#### Import the packages"
   ]
  },
  {
   "cell_type": "code",
   "execution_count": 7,
   "metadata": {},
   "outputs": [],
   "source": [
    "import os\n",
    "import sys\n",
    "os.environ['PREFIX'] = '/opt/anaconda/envs/env_s3/'\n",
    "os.environ['GPT_BIN'] = os.path.join(os.environ['PREFIX'], 'snap/bin/gpt')\n",
    "#os.environ['_JAVA_OPTIONS'] = '-Xms41g -Xmx41g'\n",
    "\n",
    "sys.path.append('.')\n",
    "import gdal\n",
    "from helpers import *\n",
    "from shapely.wkt import loads\n",
    "from shapely.geometry import box\n",
    "from shapely.geometry import shape\n",
    "import shutil\n",
    "from pystac import Catalog, Collection, Item, MediaType, Asset, CatalogType\n",
    "\n",
    "from tiling import s3_tiles\n",
    "import time\n",
    "import glob\n",
    "\n",
    "gdal.UseExceptions()"
   ]
  },
  {
   "cell_type": "code",
   "execution_count": 8,
   "metadata": {},
   "outputs": [],
   "source": [
    "%load_ext autoreload\n",
    "%autoreload 2"
   ]
  },
  {
   "cell_type": "code",
   "execution_count": 9,
   "metadata": {},
   "outputs": [],
   "source": [
    "cat = Catalog.from_file(input_catalog)\n",
    "\n",
    "if cat is None:\n",
    "    raise ValueError()"
   ]
  },
  {
   "cell_type": "code",
   "execution_count": 10,
   "metadata": {},
   "outputs": [],
   "source": [
    "collection = next(cat.get_children())"
   ]
  },
  {
   "cell_type": "code",
   "execution_count": 11,
   "metadata": {},
   "outputs": [],
   "source": [
    "item = next(collection.get_items())"
   ]
  },
  {
   "cell_type": "code",
   "execution_count": 12,
   "metadata": {},
   "outputs": [
    {
     "data": {
      "text/plain": [
       "'DESCENDING'"
      ]
     },
     "execution_count": 12,
     "metadata": {},
     "output_type": "execute_result"
    }
   ],
   "source": [
    "item.properties['eop:orbitDirection']"
   ]
  },
  {
   "cell_type": "code",
   "execution_count": 13,
   "metadata": {},
   "outputs": [],
   "source": [
    "if item.properties['eop:orbitDirection'] != 'DESCENDING':\n",
    "    ciop.log('ERROR','Product cannot be used as input')\n",
    "    raise Exception('Use products with descending orbit direction')"
   ]
  },
  {
   "cell_type": "code",
   "execution_count": 14,
   "metadata": {},
   "outputs": [],
   "source": [
    "s3_wkt = shape(item.geometry).wkt"
   ]
  },
  {
   "cell_type": "code",
   "execution_count": 15,
   "metadata": {},
   "outputs": [],
   "source": [
    "aoi_wkt = loads(aoi['value']).wkt"
   ]
  },
  {
   "cell_type": "markdown",
   "metadata": {},
   "source": [
    "### Import Sentinel-3 SLSTR product"
   ]
  },
  {
   "cell_type": "code",
   "execution_count": 16,
   "metadata": {},
   "outputs": [],
   "source": [
    "operators = ['Read',\n",
    "             'Subset',\n",
    "             'Reproject',\n",
    "             'Write']"
   ]
  },
  {
   "cell_type": "code",
   "execution_count": 17,
   "metadata": {},
   "outputs": [],
   "source": [
    "read = dict()\n",
    "\n",
    "s3_path = item.assets['metadata'].get_absolute_href()\n",
    "\n",
    "read['file'] =  s3_path\n",
    "read['formatName'] = 'Sen3'\n",
    "\n",
    "subset = dict()\n",
    "subset['geoRegion'] = aoi_wkt\n",
    "subset['copyMetadata'] = 'true'\n",
    "subset['fullSwath'] = 'true'\n",
    "\n",
    "reproject = dict()\n",
    "reproject['crs'] = 'EPSG:4326'\n",
    "\n",
    "write = dict()\n",
    "write['file'] = 's3_slstr'"
   ]
  },
  {
   "cell_type": "code",
   "execution_count": 18,
   "metadata": {},
   "outputs": [
    {
     "data": {
      "text/html": [
       "<style type=\"text/css\">.highlight .hll { background-color: #ffffcc }\n",
       ".highlight  { background: #f8f8f8; }\n",
       ".highlight .c { color: #408080; font-style: italic } /* Comment */\n",
       ".highlight .err { border: 1px solid #FF0000 } /* Error */\n",
       ".highlight .k { color: #008000; font-weight: bold } /* Keyword */\n",
       ".highlight .o { color: #666666 } /* Operator */\n",
       ".highlight .ch { color: #408080; font-style: italic } /* Comment.Hashbang */\n",
       ".highlight .cm { color: #408080; font-style: italic } /* Comment.Multiline */\n",
       ".highlight .cp { color: #BC7A00 } /* Comment.Preproc */\n",
       ".highlight .cpf { color: #408080; font-style: italic } /* Comment.PreprocFile */\n",
       ".highlight .c1 { color: #408080; font-style: italic } /* Comment.Single */\n",
       ".highlight .cs { color: #408080; font-style: italic } /* Comment.Special */\n",
       ".highlight .gd { color: #A00000 } /* Generic.Deleted */\n",
       ".highlight .ge { font-style: italic } /* Generic.Emph */\n",
       ".highlight .gr { color: #FF0000 } /* Generic.Error */\n",
       ".highlight .gh { color: #000080; font-weight: bold } /* Generic.Heading */\n",
       ".highlight .gi { color: #00A000 } /* Generic.Inserted */\n",
       ".highlight .go { color: #888888 } /* Generic.Output */\n",
       ".highlight .gp { color: #000080; font-weight: bold } /* Generic.Prompt */\n",
       ".highlight .gs { font-weight: bold } /* Generic.Strong */\n",
       ".highlight .gu { color: #800080; font-weight: bold } /* Generic.Subheading */\n",
       ".highlight .gt { color: #0044DD } /* Generic.Traceback */\n",
       ".highlight .kc { color: #008000; font-weight: bold } /* Keyword.Constant */\n",
       ".highlight .kd { color: #008000; font-weight: bold } /* Keyword.Declaration */\n",
       ".highlight .kn { color: #008000; font-weight: bold } /* Keyword.Namespace */\n",
       ".highlight .kp { color: #008000 } /* Keyword.Pseudo */\n",
       ".highlight .kr { color: #008000; font-weight: bold } /* Keyword.Reserved */\n",
       ".highlight .kt { color: #B00040 } /* Keyword.Type */\n",
       ".highlight .m { color: #666666 } /* Literal.Number */\n",
       ".highlight .s { color: #BA2121 } /* Literal.String */\n",
       ".highlight .na { color: #7D9029 } /* Name.Attribute */\n",
       ".highlight .nb { color: #008000 } /* Name.Builtin */\n",
       ".highlight .nc { color: #0000FF; font-weight: bold } /* Name.Class */\n",
       ".highlight .no { color: #880000 } /* Name.Constant */\n",
       ".highlight .nd { color: #AA22FF } /* Name.Decorator */\n",
       ".highlight .ni { color: #999999; font-weight: bold } /* Name.Entity */\n",
       ".highlight .ne { color: #D2413A; font-weight: bold } /* Name.Exception */\n",
       ".highlight .nf { color: #0000FF } /* Name.Function */\n",
       ".highlight .nl { color: #A0A000 } /* Name.Label */\n",
       ".highlight .nn { color: #0000FF; font-weight: bold } /* Name.Namespace */\n",
       ".highlight .nt { color: #008000; font-weight: bold } /* Name.Tag */\n",
       ".highlight .nv { color: #19177C } /* Name.Variable */\n",
       ".highlight .ow { color: #AA22FF; font-weight: bold } /* Operator.Word */\n",
       ".highlight .w { color: #bbbbbb } /* Text.Whitespace */\n",
       ".highlight .mb { color: #666666 } /* Literal.Number.Bin */\n",
       ".highlight .mf { color: #666666 } /* Literal.Number.Float */\n",
       ".highlight .mh { color: #666666 } /* Literal.Number.Hex */\n",
       ".highlight .mi { color: #666666 } /* Literal.Number.Integer */\n",
       ".highlight .mo { color: #666666 } /* Literal.Number.Oct */\n",
       ".highlight .sa { color: #BA2121 } /* Literal.String.Affix */\n",
       ".highlight .sb { color: #BA2121 } /* Literal.String.Backtick */\n",
       ".highlight .sc { color: #BA2121 } /* Literal.String.Char */\n",
       ".highlight .dl { color: #BA2121 } /* Literal.String.Delimiter */\n",
       ".highlight .sd { color: #BA2121; font-style: italic } /* Literal.String.Doc */\n",
       ".highlight .s2 { color: #BA2121 } /* Literal.String.Double */\n",
       ".highlight .se { color: #BB6622; font-weight: bold } /* Literal.String.Escape */\n",
       ".highlight .sh { color: #BA2121 } /* Literal.String.Heredoc */\n",
       ".highlight .si { color: #BB6688; font-weight: bold } /* Literal.String.Interpol */\n",
       ".highlight .sx { color: #008000 } /* Literal.String.Other */\n",
       ".highlight .sr { color: #BB6688 } /* Literal.String.Regex */\n",
       ".highlight .s1 { color: #BA2121 } /* Literal.String.Single */\n",
       ".highlight .ss { color: #19177C } /* Literal.String.Symbol */\n",
       ".highlight .bp { color: #008000 } /* Name.Builtin.Pseudo */\n",
       ".highlight .fm { color: #0000FF } /* Name.Function.Magic */\n",
       ".highlight .vc { color: #19177C } /* Name.Variable.Class */\n",
       ".highlight .vg { color: #19177C } /* Name.Variable.Global */\n",
       ".highlight .vi { color: #19177C } /* Name.Variable.Instance */\n",
       ".highlight .vm { color: #19177C } /* Name.Variable.Magic */\n",
       ".highlight .il { color: #666666 } /* Literal.Number.Integer.Long */</style>    <div class=\"highlight\"><pre><span></span><span class=\"nt\">&lt;graph&gt;</span>\n",
       "  <span class=\"nt\">&lt;version&gt;</span>1.0<span class=\"nt\">&lt;/version&gt;</span>\n",
       "  <span class=\"nt\">&lt;node</span> <span class=\"na\">id=</span><span class=\"s\">&quot;Read&quot;</span><span class=\"nt\">&gt;</span>\n",
       "    <span class=\"nt\">&lt;operator&gt;</span>Read<span class=\"nt\">&lt;/operator&gt;</span>\n",
       "    <span class=\"nt\">&lt;sources/&gt;</span>\n",
       "    <span class=\"nt\">&lt;parameters</span> <span class=\"na\">class=</span><span class=\"s\">&quot;com.bc.ceres.binding.dom.XppDomElement&quot;</span><span class=\"nt\">&gt;</span>\n",
       "      <span class=\"nt\">&lt;file&gt;</span>/workspace/input_reference/S3A_SL_2_LST____20200422T063257_20200422T081356_20200423T193710_6059_057_234______LN2_O_NT_004/S3A_SL_2_LST____20200422T063257_20200422T081356_20200423T193710_6059_057_234______LN2_O_NT_004/S3A_SL_2_LST____20200422T063257_20200422T081356_20200423T193710_6059_057_234______LN2_O_NT_004.SEN3/xfdumanifest.xml<span class=\"nt\">&lt;/file&gt;</span>\n",
       "      <span class=\"nt\">&lt;formatName&gt;</span>Sen3<span class=\"nt\">&lt;/formatName&gt;</span>\n",
       "    <span class=\"nt\">&lt;/parameters&gt;</span>\n",
       "  <span class=\"nt\">&lt;/node&gt;</span>\n",
       "  <span class=\"nt\">&lt;node</span> <span class=\"na\">id=</span><span class=\"s\">&quot;Subset&quot;</span><span class=\"nt\">&gt;</span>\n",
       "    <span class=\"nt\">&lt;operator&gt;</span>Subset<span class=\"nt\">&lt;/operator&gt;</span>\n",
       "    <span class=\"nt\">&lt;sources&gt;</span>\n",
       "      <span class=\"nt\">&lt;sourceProduct</span> <span class=\"na\">refid=</span><span class=\"s\">&quot;Read&quot;</span><span class=\"nt\">/&gt;</span>\n",
       "    <span class=\"nt\">&lt;/sources&gt;</span>\n",
       "    <span class=\"nt\">&lt;parameters</span> <span class=\"na\">class=</span><span class=\"s\">&quot;com.bc.ceres.binding.dom.XppDomElement&quot;</span><span class=\"nt\">&gt;</span>\n",
       "      <span class=\"nt\">&lt;bandNames/&gt;</span>\n",
       "      <span class=\"nt\">&lt;region/&gt;</span>\n",
       "      <span class=\"nt\">&lt;referenceBand/&gt;</span>\n",
       "      <span class=\"nt\">&lt;geoRegion&gt;</span>POLYGON ((26.01600074768066 -2.108999967575073, 59.0629997253418 -2.108999967575073, 59.0629997253418 12.21100044250488, 26.01600074768066 12.21100044250488, 26.01600074768066 -2.108999967575073, 26.01600074768066 -2.108999967575073))<span class=\"nt\">&lt;/geoRegion&gt;</span>\n",
       "      <span class=\"nt\">&lt;subSamplingX&gt;</span>1<span class=\"nt\">&lt;/subSamplingX&gt;</span>\n",
       "      <span class=\"nt\">&lt;subSamplingY&gt;</span>1<span class=\"nt\">&lt;/subSamplingY&gt;</span>\n",
       "      <span class=\"nt\">&lt;fullSwath&gt;</span>true<span class=\"nt\">&lt;/fullSwath&gt;</span>\n",
       "      <span class=\"nt\">&lt;tiePointGridNames/&gt;</span>\n",
       "      <span class=\"nt\">&lt;copyMetadata&gt;</span>true<span class=\"nt\">&lt;/copyMetadata&gt;</span>\n",
       "    <span class=\"nt\">&lt;/parameters&gt;</span>\n",
       "  <span class=\"nt\">&lt;/node&gt;</span>\n",
       "  <span class=\"nt\">&lt;node</span> <span class=\"na\">id=</span><span class=\"s\">&quot;Reproject&quot;</span><span class=\"nt\">&gt;</span>\n",
       "    <span class=\"nt\">&lt;operator&gt;</span>Reproject<span class=\"nt\">&lt;/operator&gt;</span>\n",
       "    <span class=\"nt\">&lt;sources&gt;</span>\n",
       "      <span class=\"nt\">&lt;sourceProduct</span> <span class=\"na\">refid=</span><span class=\"s\">&quot;Subset&quot;</span><span class=\"nt\">/&gt;</span>\n",
       "    <span class=\"nt\">&lt;/sources&gt;</span>\n",
       "    <span class=\"nt\">&lt;parameters</span> <span class=\"na\">class=</span><span class=\"s\">&quot;com.bc.ceres.binding.dom.XppDomElement&quot;</span><span class=\"nt\">&gt;</span>\n",
       "      <span class=\"nt\">&lt;wktFile/&gt;</span>\n",
       "      <span class=\"nt\">&lt;crs&gt;</span>EPSG:4326<span class=\"nt\">&lt;/crs&gt;</span>\n",
       "      <span class=\"nt\">&lt;resamplingName&gt;</span>Nearest<span class=\"nt\">&lt;/resamplingName&gt;</span>\n",
       "      <span class=\"nt\">&lt;referencePixelX/&gt;</span>\n",
       "      <span class=\"nt\">&lt;referencePixelY/&gt;</span>\n",
       "      <span class=\"nt\">&lt;easting/&gt;</span>\n",
       "      <span class=\"nt\">&lt;northing/&gt;</span>\n",
       "      <span class=\"nt\">&lt;orientation&gt;</span>0<span class=\"nt\">&lt;/orientation&gt;</span>\n",
       "      <span class=\"nt\">&lt;pixelSizeX/&gt;</span>\n",
       "      <span class=\"nt\">&lt;pixelSizeY/&gt;</span>\n",
       "      <span class=\"nt\">&lt;width/&gt;</span>\n",
       "      <span class=\"nt\">&lt;height/&gt;</span>\n",
       "      <span class=\"nt\">&lt;tileSizeX/&gt;</span>\n",
       "      <span class=\"nt\">&lt;tileSizeY/&gt;</span>\n",
       "      <span class=\"nt\">&lt;orthorectify&gt;</span>false<span class=\"nt\">&lt;/orthorectify&gt;</span>\n",
       "      <span class=\"nt\">&lt;elevationModelName/&gt;</span>\n",
       "      <span class=\"nt\">&lt;noDataValue/&gt;</span>\n",
       "      <span class=\"nt\">&lt;includeTiePointGrids&gt;</span>true<span class=\"nt\">&lt;/includeTiePointGrids&gt;</span>\n",
       "      <span class=\"nt\">&lt;addDeltaBands&gt;</span>false<span class=\"nt\">&lt;/addDeltaBands&gt;</span>\n",
       "    <span class=\"nt\">&lt;/parameters&gt;</span>\n",
       "  <span class=\"nt\">&lt;/node&gt;</span>\n",
       "  <span class=\"nt\">&lt;node</span> <span class=\"na\">id=</span><span class=\"s\">&quot;Write&quot;</span><span class=\"nt\">&gt;</span>\n",
       "    <span class=\"nt\">&lt;operator&gt;</span>Write<span class=\"nt\">&lt;/operator&gt;</span>\n",
       "    <span class=\"nt\">&lt;sources&gt;</span>\n",
       "      <span class=\"nt\">&lt;sourceProduct</span> <span class=\"na\">refid=</span><span class=\"s\">&quot;Reproject&quot;</span><span class=\"nt\">/&gt;</span>\n",
       "    <span class=\"nt\">&lt;/sources&gt;</span>\n",
       "    <span class=\"nt\">&lt;parameters</span> <span class=\"na\">class=</span><span class=\"s\">&quot;com.bc.ceres.binding.dom.XppDomElement&quot;</span><span class=\"nt\">&gt;</span>\n",
       "      <span class=\"nt\">&lt;file&gt;</span>s3_slstr<span class=\"nt\">&lt;/file&gt;</span>\n",
       "      <span class=\"nt\">&lt;formatName&gt;</span>BEAM-DIMAP<span class=\"nt\">&lt;/formatName&gt;</span>\n",
       "      <span class=\"nt\">&lt;deleteOutputOnFailure&gt;</span>true<span class=\"nt\">&lt;/deleteOutputOnFailure&gt;</span>\n",
       "      <span class=\"nt\">&lt;writeEntireTileRows&gt;</span>true<span class=\"nt\">&lt;/writeEntireTileRows&gt;</span>\n",
       "      <span class=\"nt\">&lt;clearCacheAfterRowWrite&gt;</span>false<span class=\"nt\">&lt;/clearCacheAfterRowWrite&gt;</span>\n",
       "    <span class=\"nt\">&lt;/parameters&gt;</span>\n",
       "  <span class=\"nt\">&lt;/node&gt;</span>\n",
       "<span class=\"nt\">&lt;/graph&gt;</span>\n",
       "</pre></div>\n"
      ],
      "text/plain": [
       "<IPython.core.display.HTML object>"
      ]
     },
     "metadata": {},
     "output_type": "display_data"
    },
    {
     "data": {
      "text/plain": [
       "0"
      ]
     },
     "execution_count": 18,
     "metadata": {},
     "output_type": "execute_result"
    }
   ],
   "source": [
    "snap_graph(os.environ['GPT_BIN'],\n",
    "           operators,\n",
    "           Subset=subset,\n",
    "           Read=read, \n",
    "           Reproject=reproject,\n",
    "           Write=write)"
   ]
  },
  {
   "cell_type": "code",
   "execution_count": 19,
   "metadata": {},
   "outputs": [],
   "source": [
    "def s3_to_tile(input_tif, item, tile):\n",
    "    \n",
    "    translate_options = gdal.TranslateOptions(gdal.ParseCommandLine(\"-co TILED=YES -co COPY_SRC_OVERVIEWS=YES -co COMPRESS=LZW\"))\n",
    "        \n",
    "    x_min, y_min, x_max, y_max = tile.tile.buffer(0.05).bounds\n",
    "\n",
    "    output_tile_name = '{}_L{}_C{}_R{}'.format(item.id,\n",
    "                                                    tile.level,\n",
    "                                                    tile.col,\n",
    "                                                    tile.row)\n",
    "\n",
    "\n",
    "    gdal.Translate('tmp_{}.tif'.format(output_tile_name),\n",
    "                   input_tif,\n",
    "                   projWin=[x_min, y_max, x_max, y_min],\n",
    "                   projWinSRS='EPSG:4326')\n",
    "\n",
    "    ds = gdal.Open('tmp_{}.tif'.format(output_tile_name),\n",
    "                   gdal.OF_READONLY)\n",
    "\n",
    "    gdal.SetConfigOption('COMPRESS_OVERVIEW', 'DEFLATE')\n",
    "    ds.BuildOverviews('NEAREST', [2,4,8,16,32])\n",
    "    ds = None\n",
    "\n",
    "    ds = gdal.Open('tmp_{}.tif'.format(output_tile_name))\n",
    "    ds = gdal.Translate('{}.tif'.format(output_tile_name), ds, options=translate_options)\n",
    "    ds = None\n",
    "\n",
    "    band_names = ['LST', 'NDVI', 'Land mask', 'Cloud mask']\n",
    "\n",
    "    ds = gdal.Open('{}.tif'.format(output_tile_name), gdal.GA_Update)\n",
    "\n",
    "    # update extended area to -10000 instead of 0 as gdal.trasnlate does\n",
    "    ndvi_data = ds.GetRasterBand(1).ReadAsArray()\n",
    "    land_data = ds.GetRasterBand(2).ReadAsArray()\n",
    "    cloud_data = ds.GetRasterBand(3).ReadAsArray()\n",
    "    \n",
    "    updated_ndvi_data = np.full(ndvi_data.shape, -10000)\n",
    "    \n",
    "    updated_ndvi_data = np.where((land_data == 1) | (cloud_data == 1), \n",
    "                                 ndvi_data, -10000)\n",
    "    \n",
    "    ds.GetRasterBand(1).WriteArray(updated_ndvi_data)\n",
    "    \n",
    "    ds.FlushCache()\n",
    "    \n",
    "    ds = None\n",
    "    \n",
    "    ds = gdal.Open('{}.tif'.format(output_tile_name), gdal.GA_Update)\n",
    "    \n",
    "    for index in range(ds.RasterCount):\n",
    "\n",
    "        srcband = ds.GetRasterBand(index+1)\n",
    "\n",
    "        srcband.SetDescription(band_names[index])\n",
    "\n",
    "        if index == 0:\n",
    "            \n",
    "            srcband.SetNoDataValue(-10000)\n",
    "    \n",
    "    ds.FlushCache()\n",
    "\n",
    "    ds = None\n",
    "    \n",
    "    with open(output_tile_name + '.properties', 'w') as file:\n",
    "\n",
    "        file.write('title=Tile L:{1} C:{2} R:{3} {0}\\n'.format(item.id,\n",
    "                                                              tile.level, \n",
    "                                                              tile.col, \n",
    "                                                              tile.row))\n",
    "        \n",
    "        date='{}/{}'.format(item.datetime.strftime('%Y-%m-%dT%H:%M:%SZ'), \n",
    "                                         item.datetime.strftime('%Y-%m-%dT%H:%M:%SZ'))\n",
    "        \n",
    "        file.write('date={}\\n'.format(date))\n",
    "        \n",
    "        file.write('geometry={0}'.format(tile.tile.buffer(0.05).wkt))\n",
    "\n",
    "\n",
    "    for f in ['tmp_{}.tif'.format(output_tile_name), 'tmp_{}.tif.ovr'.format(output_tile_name)]:\n",
    "\n",
    "        if os.path.exists(f):\n",
    "\n",
    "            os.remove(f)\n",
    "    \n",
    "    return True\n",
    "    "
   ]
  },
  {
   "cell_type": "markdown",
   "metadata": {},
   "source": [
    "### Tiling"
   ]
  },
  {
   "cell_type": "code",
   "execution_count": 20,
   "metadata": {},
   "outputs": [],
   "source": [
    "bands = [os.path.join('s3_slstr.data', '{}.img'.format(band)) for band in ['LST', 'NDVI', 'cloud_in', 'confidence_in']]\n",
    "        \n",
    "s3_data = read_s3(bands)\n",
    "        "
   ]
  },
  {
   "cell_type": "code",
   "execution_count": 21,
   "metadata": {},
   "outputs": [],
   "source": [
    "ds = gdal.Open(bands[0])\n",
    "\n",
    "geo_transform = ds.GetGeoTransform()\n",
    "projection_ref = ds.GetProjectionRef()\n",
    "    "
   ]
  },
  {
   "cell_type": "code",
   "execution_count": 22,
   "metadata": {},
   "outputs": [],
   "source": [
    "lst = s3_data[:,:,0]\n",
    "ndvi = s3_data[:,:,1]\n",
    "cloud = s3_data[:,:,2]\n",
    "confidence = s3_data[:,:,3]"
   ]
  },
  {
   "cell_type": "code",
   "execution_count": 23,
   "metadata": {},
   "outputs": [],
   "source": [
    "mask = get_slstr_confidence_mask('land', confidence)"
   ]
  },
  {
   "cell_type": "code",
   "execution_count": 24,
   "metadata": {},
   "outputs": [],
   "source": [
    "cloud_mask =  get_slstr_mask('gross_cloud', cloud)"
   ]
  },
  {
   "cell_type": "code",
   "execution_count": 25,
   "metadata": {},
   "outputs": [],
   "source": [
    "output_name = 'temp.tif'"
   ]
  },
  {
   "cell_type": "code",
   "execution_count": 26,
   "metadata": {},
   "outputs": [],
   "source": [
    "driver = gdal.GetDriverByName('GTiff')\n",
    "\n",
    "output = driver.Create(output_name, \n",
    "                       lst.shape[1], \n",
    "                       lst.shape[0], \n",
    "                       4, \n",
    "                       gdal.GDT_Float32)\n",
    "\n",
    "output.SetGeoTransform(geo_transform)\n",
    "output.SetProjection(projection_ref)\n",
    "output.GetRasterBand(1).WriteArray(lst)\n",
    "output.GetRasterBand(2).WriteArray(ndvi)\n",
    "output.GetRasterBand(3).WriteArray(mask)\n",
    "output.GetRasterBand(4).WriteArray(cloud_mask)\n",
    "\n",
    "output.FlushCache()\n",
    "\n",
    "output = None"
   ]
  },
  {
   "cell_type": "code",
   "execution_count": 27,
   "metadata": {},
   "outputs": [
    {
     "data": {
      "image/svg+xml": [
       "<svg xmlns=\"http://www.w3.org/2000/svg\" xmlns:xlink=\"http://www.w3.org/1999/xlink\" width=\"100.0\" height=\"100.0\" viewBox=\"24.694120788574217 -3.4308799266815186 35.690758895874026 16.963760328292846\" preserveAspectRatio=\"xMinYMin meet\"><g transform=\"matrix(1,0,0,-1,0,10.10200047492981)\"><path fill-rule=\"evenodd\" fill=\"#66cc99\" stroke=\"#555555\" stroke-width=\"0.7138151779174805\" opacity=\"0.6\" d=\"M 26.016000747680664,-2.1089999675750732 L 59.0629997253418,-2.1089999675750732 L 59.0629997253418,12.211000442504883 L 26.016000747680664,12.211000442504883 L 26.016000747680664,-2.1089999675750732 L 26.016000747680664,-2.1089999675750732 z\" /></g></svg>"
      ],
      "text/plain": [
       "<shapely.geometry.polygon.Polygon at 0x7f286fddcb10>"
      ]
     },
     "execution_count": 27,
     "metadata": {},
     "output_type": "execute_result"
    }
   ],
   "source": [
    "loads(aoi['value'])"
   ]
  },
  {
   "cell_type": "code",
   "execution_count": 28,
   "metadata": {},
   "outputs": [],
   "source": [
    "\n",
    "#tiles = s3_tiles(shape(item.geometry), int(tiling_level['value']))\n",
    "tiles = s3_tiles(loads(aoi['value']), int(tiling_level['value']))"
   ]
  },
  {
   "cell_type": "code",
   "execution_count": 29,
   "metadata": {},
   "outputs": [
    {
     "data": {
      "text/html": [
       "<div>\n",
       "<style scoped>\n",
       "    .dataframe tbody tr th:only-of-type {\n",
       "        vertical-align: middle;\n",
       "    }\n",
       "\n",
       "    .dataframe tbody tr th {\n",
       "        vertical-align: top;\n",
       "    }\n",
       "\n",
       "    .dataframe thead th {\n",
       "        text-align: right;\n",
       "    }\n",
       "</style>\n",
       "<table border=\"1\" class=\"dataframe\">\n",
       "  <thead>\n",
       "    <tr style=\"text-align: right;\">\n",
       "      <th></th>\n",
       "      <th>col</th>\n",
       "      <th>row</th>\n",
       "      <th>level</th>\n",
       "      <th>s3_tile</th>\n",
       "      <th>tile</th>\n",
       "    </tr>\n",
       "  </thead>\n",
       "  <tbody>\n",
       "    <tr>\n",
       "      <th>0</th>\n",
       "      <td>36</td>\n",
       "      <td>15</td>\n",
       "      <td>5</td>\n",
       "      <td>POLYGON ((26.01600 -2.10900, 26.01600 0.00000,...</td>\n",
       "      <td>POLYGON ((28.12500 -5.62500, 28.12500 0.00000,...</td>\n",
       "    </tr>\n",
       "    <tr>\n",
       "      <th>1</th>\n",
       "      <td>36</td>\n",
       "      <td>16</td>\n",
       "      <td>5</td>\n",
       "      <td>POLYGON ((26.01600 0.00000, 26.01600 5.62500, ...</td>\n",
       "      <td>POLYGON ((28.12500 0.00000, 28.12500 5.62500, ...</td>\n",
       "    </tr>\n",
       "    <tr>\n",
       "      <th>2</th>\n",
       "      <td>36</td>\n",
       "      <td>17</td>\n",
       "      <td>5</td>\n",
       "      <td>POLYGON ((26.01600 5.62500, 26.01600 11.25000,...</td>\n",
       "      <td>POLYGON ((28.12500 5.62500, 28.12500 11.25000,...</td>\n",
       "    </tr>\n",
       "    <tr>\n",
       "      <th>3</th>\n",
       "      <td>36</td>\n",
       "      <td>18</td>\n",
       "      <td>5</td>\n",
       "      <td>POLYGON ((26.01600 11.25000, 26.01600 12.21100...</td>\n",
       "      <td>POLYGON ((28.12500 11.25000, 28.12500 16.87500...</td>\n",
       "    </tr>\n",
       "    <tr>\n",
       "      <th>4</th>\n",
       "      <td>37</td>\n",
       "      <td>15</td>\n",
       "      <td>5</td>\n",
       "      <td>POLYGON ((33.75000 -2.10900, 28.12500 -2.10900...</td>\n",
       "      <td>POLYGON ((33.75000 -5.62500, 33.75000 0.00000,...</td>\n",
       "    </tr>\n",
       "    <tr>\n",
       "      <th>5</th>\n",
       "      <td>37</td>\n",
       "      <td>16</td>\n",
       "      <td>5</td>\n",
       "      <td>POLYGON ((33.75000 0.00000, 28.12500 0.00000, ...</td>\n",
       "      <td>POLYGON ((33.75000 0.00000, 33.75000 5.62500, ...</td>\n",
       "    </tr>\n",
       "    <tr>\n",
       "      <th>6</th>\n",
       "      <td>37</td>\n",
       "      <td>17</td>\n",
       "      <td>5</td>\n",
       "      <td>POLYGON ((33.75000 5.62500, 28.12500 5.62500, ...</td>\n",
       "      <td>POLYGON ((33.75000 5.62500, 33.75000 11.25000,...</td>\n",
       "    </tr>\n",
       "    <tr>\n",
       "      <th>7</th>\n",
       "      <td>37</td>\n",
       "      <td>18</td>\n",
       "      <td>5</td>\n",
       "      <td>POLYGON ((28.12500 12.21100, 33.75000 12.21100...</td>\n",
       "      <td>POLYGON ((33.75000 11.25000, 33.75000 16.87500...</td>\n",
       "    </tr>\n",
       "    <tr>\n",
       "      <th>8</th>\n",
       "      <td>38</td>\n",
       "      <td>15</td>\n",
       "      <td>5</td>\n",
       "      <td>POLYGON ((39.37500 -2.10900, 33.75000 -2.10900...</td>\n",
       "      <td>POLYGON ((39.37500 -5.62500, 39.37500 0.00000,...</td>\n",
       "    </tr>\n",
       "    <tr>\n",
       "      <th>9</th>\n",
       "      <td>38</td>\n",
       "      <td>16</td>\n",
       "      <td>5</td>\n",
       "      <td>POLYGON ((39.37500 0.00000, 33.75000 0.00000, ...</td>\n",
       "      <td>POLYGON ((39.37500 0.00000, 39.37500 5.62500, ...</td>\n",
       "    </tr>\n",
       "    <tr>\n",
       "      <th>10</th>\n",
       "      <td>38</td>\n",
       "      <td>17</td>\n",
       "      <td>5</td>\n",
       "      <td>POLYGON ((39.37500 5.62500, 33.75000 5.62500, ...</td>\n",
       "      <td>POLYGON ((39.37500 5.62500, 39.37500 11.25000,...</td>\n",
       "    </tr>\n",
       "    <tr>\n",
       "      <th>11</th>\n",
       "      <td>38</td>\n",
       "      <td>18</td>\n",
       "      <td>5</td>\n",
       "      <td>POLYGON ((33.75000 12.21100, 39.37500 12.21100...</td>\n",
       "      <td>POLYGON ((39.37500 11.25000, 39.37500 16.87500...</td>\n",
       "    </tr>\n",
       "    <tr>\n",
       "      <th>12</th>\n",
       "      <td>39</td>\n",
       "      <td>15</td>\n",
       "      <td>5</td>\n",
       "      <td>POLYGON ((45.00000 -2.10900, 39.37500 -2.10900...</td>\n",
       "      <td>POLYGON ((45.00000 -5.62500, 45.00000 0.00000,...</td>\n",
       "    </tr>\n",
       "    <tr>\n",
       "      <th>13</th>\n",
       "      <td>39</td>\n",
       "      <td>16</td>\n",
       "      <td>5</td>\n",
       "      <td>POLYGON ((45.00000 0.00000, 39.37500 0.00000, ...</td>\n",
       "      <td>POLYGON ((45.00000 0.00000, 45.00000 5.62500, ...</td>\n",
       "    </tr>\n",
       "    <tr>\n",
       "      <th>14</th>\n",
       "      <td>39</td>\n",
       "      <td>17</td>\n",
       "      <td>5</td>\n",
       "      <td>POLYGON ((45.00000 5.62500, 39.37500 5.62500, ...</td>\n",
       "      <td>POLYGON ((45.00000 5.62500, 45.00000 11.25000,...</td>\n",
       "    </tr>\n",
       "    <tr>\n",
       "      <th>15</th>\n",
       "      <td>39</td>\n",
       "      <td>18</td>\n",
       "      <td>5</td>\n",
       "      <td>POLYGON ((39.37500 12.21100, 45.00000 12.21100...</td>\n",
       "      <td>POLYGON ((45.00000 11.25000, 45.00000 16.87500...</td>\n",
       "    </tr>\n",
       "    <tr>\n",
       "      <th>16</th>\n",
       "      <td>40</td>\n",
       "      <td>15</td>\n",
       "      <td>5</td>\n",
       "      <td>POLYGON ((50.62500 -2.10900, 45.00000 -2.10900...</td>\n",
       "      <td>POLYGON ((50.62500 -5.62500, 50.62500 0.00000,...</td>\n",
       "    </tr>\n",
       "    <tr>\n",
       "      <th>17</th>\n",
       "      <td>40</td>\n",
       "      <td>16</td>\n",
       "      <td>5</td>\n",
       "      <td>POLYGON ((50.62500 0.00000, 45.00000 0.00000, ...</td>\n",
       "      <td>POLYGON ((50.62500 0.00000, 50.62500 5.62500, ...</td>\n",
       "    </tr>\n",
       "    <tr>\n",
       "      <th>18</th>\n",
       "      <td>40</td>\n",
       "      <td>17</td>\n",
       "      <td>5</td>\n",
       "      <td>POLYGON ((50.62500 5.62500, 45.00000 5.62500, ...</td>\n",
       "      <td>POLYGON ((50.62500 5.62500, 50.62500 11.25000,...</td>\n",
       "    </tr>\n",
       "    <tr>\n",
       "      <th>19</th>\n",
       "      <td>40</td>\n",
       "      <td>18</td>\n",
       "      <td>5</td>\n",
       "      <td>POLYGON ((45.00000 12.21100, 50.62500 12.21100...</td>\n",
       "      <td>POLYGON ((50.62500 11.25000, 50.62500 16.87500...</td>\n",
       "    </tr>\n",
       "    <tr>\n",
       "      <th>20</th>\n",
       "      <td>41</td>\n",
       "      <td>15</td>\n",
       "      <td>5</td>\n",
       "      <td>POLYGON ((56.25000 -2.10900, 50.62500 -2.10900...</td>\n",
       "      <td>POLYGON ((56.25000 -5.62500, 56.25000 0.00000,...</td>\n",
       "    </tr>\n",
       "    <tr>\n",
       "      <th>21</th>\n",
       "      <td>41</td>\n",
       "      <td>16</td>\n",
       "      <td>5</td>\n",
       "      <td>POLYGON ((56.25000 0.00000, 50.62500 0.00000, ...</td>\n",
       "      <td>POLYGON ((56.25000 0.00000, 56.25000 5.62500, ...</td>\n",
       "    </tr>\n",
       "    <tr>\n",
       "      <th>22</th>\n",
       "      <td>41</td>\n",
       "      <td>17</td>\n",
       "      <td>5</td>\n",
       "      <td>POLYGON ((56.25000 5.62500, 50.62500 5.62500, ...</td>\n",
       "      <td>POLYGON ((56.25000 5.62500, 56.25000 11.25000,...</td>\n",
       "    </tr>\n",
       "    <tr>\n",
       "      <th>23</th>\n",
       "      <td>41</td>\n",
       "      <td>18</td>\n",
       "      <td>5</td>\n",
       "      <td>POLYGON ((50.62500 12.21100, 56.25000 12.21100...</td>\n",
       "      <td>POLYGON ((56.25000 11.25000, 56.25000 16.87500...</td>\n",
       "    </tr>\n",
       "    <tr>\n",
       "      <th>24</th>\n",
       "      <td>42</td>\n",
       "      <td>15</td>\n",
       "      <td>5</td>\n",
       "      <td>POLYGON ((59.06300 0.00000, 59.06300 -2.10900,...</td>\n",
       "      <td>POLYGON ((61.87500 -5.62500, 61.87500 0.00000,...</td>\n",
       "    </tr>\n",
       "    <tr>\n",
       "      <th>25</th>\n",
       "      <td>42</td>\n",
       "      <td>16</td>\n",
       "      <td>5</td>\n",
       "      <td>POLYGON ((59.06300 5.62500, 59.06300 0.00000, ...</td>\n",
       "      <td>POLYGON ((61.87500 0.00000, 61.87500 5.62500, ...</td>\n",
       "    </tr>\n",
       "    <tr>\n",
       "      <th>26</th>\n",
       "      <td>42</td>\n",
       "      <td>17</td>\n",
       "      <td>5</td>\n",
       "      <td>POLYGON ((59.06300 11.25000, 59.06300 5.62500,...</td>\n",
       "      <td>POLYGON ((61.87500 5.62500, 61.87500 11.25000,...</td>\n",
       "    </tr>\n",
       "    <tr>\n",
       "      <th>27</th>\n",
       "      <td>42</td>\n",
       "      <td>18</td>\n",
       "      <td>5</td>\n",
       "      <td>POLYGON ((56.25000 12.21100, 59.06300 12.21100...</td>\n",
       "      <td>POLYGON ((61.87500 11.25000, 61.87500 16.87500...</td>\n",
       "    </tr>\n",
       "  </tbody>\n",
       "</table>\n",
       "</div>"
      ],
      "text/plain": [
       "    col  row  level                                            s3_tile  \\\n",
       "0    36   15      5  POLYGON ((26.01600 -2.10900, 26.01600 0.00000,...   \n",
       "1    36   16      5  POLYGON ((26.01600 0.00000, 26.01600 5.62500, ...   \n",
       "2    36   17      5  POLYGON ((26.01600 5.62500, 26.01600 11.25000,...   \n",
       "3    36   18      5  POLYGON ((26.01600 11.25000, 26.01600 12.21100...   \n",
       "4    37   15      5  POLYGON ((33.75000 -2.10900, 28.12500 -2.10900...   \n",
       "5    37   16      5  POLYGON ((33.75000 0.00000, 28.12500 0.00000, ...   \n",
       "6    37   17      5  POLYGON ((33.75000 5.62500, 28.12500 5.62500, ...   \n",
       "7    37   18      5  POLYGON ((28.12500 12.21100, 33.75000 12.21100...   \n",
       "8    38   15      5  POLYGON ((39.37500 -2.10900, 33.75000 -2.10900...   \n",
       "9    38   16      5  POLYGON ((39.37500 0.00000, 33.75000 0.00000, ...   \n",
       "10   38   17      5  POLYGON ((39.37500 5.62500, 33.75000 5.62500, ...   \n",
       "11   38   18      5  POLYGON ((33.75000 12.21100, 39.37500 12.21100...   \n",
       "12   39   15      5  POLYGON ((45.00000 -2.10900, 39.37500 -2.10900...   \n",
       "13   39   16      5  POLYGON ((45.00000 0.00000, 39.37500 0.00000, ...   \n",
       "14   39   17      5  POLYGON ((45.00000 5.62500, 39.37500 5.62500, ...   \n",
       "15   39   18      5  POLYGON ((39.37500 12.21100, 45.00000 12.21100...   \n",
       "16   40   15      5  POLYGON ((50.62500 -2.10900, 45.00000 -2.10900...   \n",
       "17   40   16      5  POLYGON ((50.62500 0.00000, 45.00000 0.00000, ...   \n",
       "18   40   17      5  POLYGON ((50.62500 5.62500, 45.00000 5.62500, ...   \n",
       "19   40   18      5  POLYGON ((45.00000 12.21100, 50.62500 12.21100...   \n",
       "20   41   15      5  POLYGON ((56.25000 -2.10900, 50.62500 -2.10900...   \n",
       "21   41   16      5  POLYGON ((56.25000 0.00000, 50.62500 0.00000, ...   \n",
       "22   41   17      5  POLYGON ((56.25000 5.62500, 50.62500 5.62500, ...   \n",
       "23   41   18      5  POLYGON ((50.62500 12.21100, 56.25000 12.21100...   \n",
       "24   42   15      5  POLYGON ((59.06300 0.00000, 59.06300 -2.10900,...   \n",
       "25   42   16      5  POLYGON ((59.06300 5.62500, 59.06300 0.00000, ...   \n",
       "26   42   17      5  POLYGON ((59.06300 11.25000, 59.06300 5.62500,...   \n",
       "27   42   18      5  POLYGON ((56.25000 12.21100, 59.06300 12.21100...   \n",
       "\n",
       "                                                 tile  \n",
       "0   POLYGON ((28.12500 -5.62500, 28.12500 0.00000,...  \n",
       "1   POLYGON ((28.12500 0.00000, 28.12500 5.62500, ...  \n",
       "2   POLYGON ((28.12500 5.62500, 28.12500 11.25000,...  \n",
       "3   POLYGON ((28.12500 11.25000, 28.12500 16.87500...  \n",
       "4   POLYGON ((33.75000 -5.62500, 33.75000 0.00000,...  \n",
       "5   POLYGON ((33.75000 0.00000, 33.75000 5.62500, ...  \n",
       "6   POLYGON ((33.75000 5.62500, 33.75000 11.25000,...  \n",
       "7   POLYGON ((33.75000 11.25000, 33.75000 16.87500...  \n",
       "8   POLYGON ((39.37500 -5.62500, 39.37500 0.00000,...  \n",
       "9   POLYGON ((39.37500 0.00000, 39.37500 5.62500, ...  \n",
       "10  POLYGON ((39.37500 5.62500, 39.37500 11.25000,...  \n",
       "11  POLYGON ((39.37500 11.25000, 39.37500 16.87500...  \n",
       "12  POLYGON ((45.00000 -5.62500, 45.00000 0.00000,...  \n",
       "13  POLYGON ((45.00000 0.00000, 45.00000 5.62500, ...  \n",
       "14  POLYGON ((45.00000 5.62500, 45.00000 11.25000,...  \n",
       "15  POLYGON ((45.00000 11.25000, 45.00000 16.87500...  \n",
       "16  POLYGON ((50.62500 -5.62500, 50.62500 0.00000,...  \n",
       "17  POLYGON ((50.62500 0.00000, 50.62500 5.62500, ...  \n",
       "18  POLYGON ((50.62500 5.62500, 50.62500 11.25000,...  \n",
       "19  POLYGON ((50.62500 11.25000, 50.62500 16.87500...  \n",
       "20  POLYGON ((56.25000 -5.62500, 56.25000 0.00000,...  \n",
       "21  POLYGON ((56.25000 0.00000, 56.25000 5.62500, ...  \n",
       "22  POLYGON ((56.25000 5.62500, 56.25000 11.25000,...  \n",
       "23  POLYGON ((56.25000 11.25000, 56.25000 16.87500...  \n",
       "24  POLYGON ((61.87500 -5.62500, 61.87500 0.00000,...  \n",
       "25  POLYGON ((61.87500 0.00000, 61.87500 5.62500, ...  \n",
       "26  POLYGON ((61.87500 5.62500, 61.87500 11.25000,...  \n",
       "27  POLYGON ((61.87500 11.25000, 61.87500 16.87500...  "
      ]
     },
     "execution_count": 29,
     "metadata": {},
     "output_type": "execute_result"
    }
   ],
   "source": [
    "tiles"
   ]
  },
  {
   "cell_type": "code",
   "execution_count": 30,
   "metadata": {},
   "outputs": [],
   "source": [
    "for index, tile in tiles.iterrows():\n",
    "    \n",
    "    logging.info('Tile L{} C{} R{}'.format(tile.level,\n",
    "                                       tile.col,\n",
    "                                       tile.row))\n",
    "\n",
    "\n",
    "    s3_to_tile(output_name, item, tile)"
   ]
  },
  {
   "cell_type": "code",
   "execution_count": 31,
   "metadata": {},
   "outputs": [],
   "source": [
    "logging.info('Clean-up') \n",
    "os.remove(output_name)\n",
    "\n",
    "shutil.rmtree('s3_slstr.data')\n",
    "os.remove('s3_slstr.dim')\n",
    "\n",
    "time.sleep(45)\n",
    "\n",
    "for f in glob.glob('./*.tif.aux.xml'):\n",
    "\n",
    "    os.remove(f)\n"
   ]
  },
  {
   "cell_type": "markdown",
   "metadata": {},
   "source": [
    "### License"
   ]
  },
  {
   "cell_type": "markdown",
   "metadata": {},
   "source": [
    "This work is licenced under a [Attribution-ShareAlike 4.0 International License (CC BY-SA 4.0)](http://creativecommons.org/licenses/by-sa/4.0/) \n",
    "\n",
    "YOU ARE FREE TO:\n",
    "\n",
    "* Share - copy and redistribute the material in any medium or format.\n",
    "* Adapt - remix, transform, and built upon the material for any purpose, even commercially.\n",
    "\n",
    "UNDER THE FOLLOWING TERMS:\n",
    "\n",
    "* Attribution - You must give appropriate credit, provide a link to the license, and indicate if changes were made. You may do so in any reasonable manner, but not in any way that suggests the licensor endorses you or your use.\n",
    "* ShareAlike - If you remix, transform, or build upon the material, you must distribute your contributions under the same license as the original."
   ]
  },
  {
   "cell_type": "code",
   "execution_count": null,
   "metadata": {},
   "outputs": [],
   "source": []
  }
 ],
 "metadata": {
  "kernelspec": {
   "display_name": "env_s3",
   "language": "python",
   "name": "env_s3"
  },
  "language_info": {
   "codemirror_mode": {
    "name": "ipython",
    "version": 3
   },
   "file_extension": ".py",
   "mimetype": "text/x-python",
   "name": "python",
   "nbconvert_exporter": "python",
   "pygments_lexer": "ipython3",
   "version": "3.7.6"
  }
 },
 "nbformat": 4,
 "nbformat_minor": 4
}
