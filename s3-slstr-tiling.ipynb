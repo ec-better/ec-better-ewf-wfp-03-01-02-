{
 "cells": [
  {
   "cell_type": "markdown",
   "metadata": {},
   "source": [
    "##  Sentinel-3 SLSTR tiling"
   ]
  },
  {
   "cell_type": "markdown",
   "metadata": {},
   "source": [
    "### Service Definition"
   ]
  },
  {
   "cell_type": "code",
   "execution_count": 1,
   "metadata": {},
   "outputs": [],
   "source": [
    "service = dict([('title', 'Sentinel-3 SLSTR Level-2 reprojection and tiling'),\n",
    "                ('abstract', 'This service takes as input a Sentinel-3 SLSTR Level 2 (SL_2_LST____) product on DESCENDING pass and does the reprojection and tiling'),\n",
    "                ('identifier', 'ewf-wfp-03-01-02')])"
   ]
  },
  {
   "cell_type": "markdown",
   "metadata": {},
   "source": [
    "### Parameter Definition "
   ]
  },
  {
   "cell_type": "markdown",
   "metadata": {},
   "source": [
    "### Runtime parameter definition"
   ]
  },
  {
   "cell_type": "markdown",
   "metadata": {},
   "source": [
    "**Input reference**\n",
    "\n",
    "The input identifier is the catalogue entry URL (a.k.a. self value)."
   ]
  },
  {
   "cell_type": "code",
   "execution_count": 2,
   "metadata": {},
   "outputs": [],
   "source": [
    "input_reference = dict([('identifier', 'input_reference'),\n",
    "                        ('title', 'Sentinel-3 SLSTR Level-2 (SL_2_LST____ descending pass)'),\n",
    "                        ('abstract', 'This service takes as input a Sentinel-3 SLSTR Level 2 (SL_2_LST____) product on DESCENDING pass'),\n",
    "                        ('value', 'https://catalog.terradue.com/sentinel3/search?format=json&uid=S3A_SL_2_LST____20190107T082459_20190107T100558_20190108T183657_6059_040_064______LN2_O_NT_003'),\n",
    "                        ('stac:collection', 'input_reference'),\n",
    "                        ('stac:href', 'catalog.json'),\n",
    "                        ('max_occurs', '16')])"
   ]
  },
  {
   "cell_type": "code",
   "execution_count": 3,
   "metadata": {},
   "outputs": [],
   "source": [
    "tiling_level = dict([('identifier', 'tiling_level'),\n",
    "                ('value', '4'),\n",
    "                ('title', 'Tiling level'),\n",
    "                ('abstract', 'Tiling level'),\n",
    "                ('max_occurs', '1')])\n"
   ]
  },
  {
   "cell_type": "code",
   "execution_count": 4,
   "metadata": {},
   "outputs": [],
   "source": [
    "aoi = dict([('identifier', 'aoi'),\n",
    "                ('value', 'POLYGON((21.5 18.39, 37.82 18.39, 37.82 -2.09, 21.5 -2.09, 21.5 18.39))'),\n",
    "                ('title', 'Area of Interest'),\n",
    "                ('abstract', 'Area of Interest'),\n",
    "                ('max_occurs', '1')])\n"
   ]
  },
  {
   "cell_type": "markdown",
   "metadata": {},
   "source": [
    "**Data path**\n",
    "\n",
    "This path defines where the data is staged-in. "
   ]
  },
  {
   "cell_type": "code",
   "execution_count": 5,
   "metadata": {},
   "outputs": [],
   "source": [
    "data_path = '/workspace/data/s3'"
   ]
  },
  {
   "cell_type": "code",
   "execution_count": 6,
   "metadata": {},
   "outputs": [],
   "source": [
    "input_catalog = '/workspace/data/s3/catalog.json'"
   ]
  },
  {
   "cell_type": "markdown",
   "metadata": {},
   "source": [
    "### Workflow"
   ]
  },
  {
   "cell_type": "markdown",
   "metadata": {},
   "source": [
    "#### Import the packages"
   ]
  },
  {
   "cell_type": "code",
   "execution_count": 7,
   "metadata": {},
   "outputs": [],
   "source": [
    "import os\n",
    "import sys\n",
    "os.environ['PREFIX'] = '/opt/anaconda/envs/env_s3/'\n",
    "os.environ['GPT_BIN'] = os.path.join(os.environ['PREFIX'], 'snap/bin/gpt')\n",
    "#os.environ['_JAVA_OPTIONS'] = '-Xms41g -Xmx41g'\n",
    "\n",
    "sys.path.append('.')\n",
    "import gdal\n",
    "from helpers import *\n",
    "from shapely.wkt import loads\n",
    "from shapely.geometry import box\n",
    "from shapely.geometry import shape\n",
    "import shutil\n",
    "from pystac import Catalog, Collection, Item, MediaType, Asset, CatalogType\n",
    "\n",
    "from tiling import s3_tiles\n",
    "import time\n",
    "import glob\n",
    "import numpy as np\n",
    "gdal.UseExceptions()"
   ]
  },
  {
   "cell_type": "code",
   "execution_count": 8,
   "metadata": {},
   "outputs": [],
   "source": [
    "%load_ext autoreload\n",
    "%autoreload 2"
   ]
  },
  {
   "cell_type": "code",
   "execution_count": 9,
   "metadata": {},
   "outputs": [],
   "source": [
    "cat = Catalog.from_file(input_catalog)\n",
    "\n",
    "if cat is None:\n",
    "    raise ValueError()"
   ]
  },
  {
   "cell_type": "code",
   "execution_count": 10,
   "metadata": {},
   "outputs": [],
   "source": [
    "collection = next(cat.get_children())"
   ]
  },
  {
   "cell_type": "code",
   "execution_count": 11,
   "metadata": {},
   "outputs": [],
   "source": [
    "item = next(collection.get_items())"
   ]
  },
  {
   "cell_type": "code",
   "execution_count": 12,
   "metadata": {},
   "outputs": [
    {
     "data": {
      "text/plain": [
       "'DESCENDING'"
      ]
     },
     "execution_count": 12,
     "metadata": {},
     "output_type": "execute_result"
    }
   ],
   "source": [
    "item.properties['eop:orbitDirection']"
   ]
  },
  {
   "cell_type": "code",
   "execution_count": 13,
   "metadata": {},
   "outputs": [],
   "source": [
    "if item.properties['eop:orbitDirection'] != 'DESCENDING':\n",
    "    ciop.log('ERROR','Product cannot be used as input')\n",
    "    raise Exception('Use products with descending orbit direction')"
   ]
  },
  {
   "cell_type": "code",
   "execution_count": 14,
   "metadata": {},
   "outputs": [],
   "source": [
    "s3_wkt = shape(item.geometry).wkt"
   ]
  },
  {
   "cell_type": "code",
   "execution_count": 15,
   "metadata": {},
   "outputs": [
    {
     "data": {
      "text/plain": [
       "'POLYGON ((-104.938 -85.05115000000001, -68.2803 -85.05115000000001, -37.8937 -84.61020000000001, -21.3075 -82.5334, -12.1643 -80.1264, -6.53162 -77.5792, -2.70693 -74.9623, 2.51071153478015e-18 -72.3920772829885, 0.090445 -72.3062, 2.25453 -69.62569999999999, 4.00362 -66.92870000000001, 5.46717 -64.21980000000001, 6.72631 -61.502, 7.83487 -58.777, 8.82954 -56.0462, 9.736330000000001 -53.3102, 10.5743 -50.5699, 11.3576 -47.8255, 12.097 -45.0775, 12.8012 -42.3262, 13.4766 -39.5718, 14.129 -36.8144, 14.7626 -34.0544, 15.3813 -31.2918, 15.9882 -28.5269, 16.5862 -25.7599, 17.1776 -22.991, 17.7648 -20.2204, 18.3496 -17.4483, 18.934 -14.6749, 19.5198 -11.9005, 20.1087 -9.12541, 20.7025 -6.34985, 21.3029 -3.57415, 21.9116 -0.798609, 22.5306 1.97642, 23.1619 4.75059, 23.8075 7.52352, 24.4699 10.2948, 25.1515 13.064, 25.8552 15.8306, 26.5843 18.5942, 27.3423 21.3541, 28.1334 24.1098, 28.9626 26.8606, 29.8353 29.6058, 30.7582 32.3443, 31.7391 35.0753, 32.7873 37.7975, 33.9141 40.5095, 35.1332 43.2097, 36.4613 45.8958, 37.9194 48.5655, 39.5335 51.2153, 41.3366 53.8412, 43.3712 56.4377, 45.6919 58.9978, 48.3705 61.5119, 51.5012 63.967, 55.2085 66.345, 59.6572 68.62050000000001, 65.05710000000001 70.75749999999999, 71.664 72.70489999999999, 79.7465 74.3917, 89.4879 75.7259, 100.509752325991 76.5788295500986, 107.913 76.1815, 118.397 75.0403, 127.212 73.49939999999999, 134.451 71.6591, 140.36 69.59999999999999, 145.207 67.38160000000001, 149.225 65.04600000000001, 152.597 62.623, 155.466 60.1336, 157.937 57.5928, 160.093 55.0116, 161.994 52.3982, 163.689 49.7585, 165.214 47.0973, 166.597 44.4181, 167.863 41.7239, 169.03 39.017, 170.112 36.2991, 171.122 33.5718, 172.07 30.8365, 172.964 28.0941, 173.812 25.3457, 174.62 22.592, 175.392 19.8338, 176.134 17.0716, 176.849 14.3062, 177.54 11.538, 178.211 8.767480000000001, 178.863 5.99513, 179.501 3.22134, 180 1.00238056249999, 180 85.05115000000001, 111.968 85.05115000000001, 86.77930000000001 85.05115000000001, 16.3761 85.05115000000001, 19.3607 84.4011, 20.1294 81.6795, 20.3183 78.9556, 20.2705 76.2303, 20.1025 73.50369999999999, 19.8646 70.776, 19.5819 68.047, 19.2684 65.31659999999999, 18.9324 62.5848, 18.579 59.8515, 18.2115 57.1166, 17.8321 54.3801, 17.4423 51.6418, 17.043 48.9019, 16.6349 46.1602, 16.2182 43.4169, 15.7932 40.6718, 15.3597 37.9251, 14.9178 35.1769, 14.467 32.4273, 14.0072 29.6763, 13.5378 26.9242, 13.0583 24.171, 12.5681 21.4171, 12.0664 18.6626, 11.5526 15.9077, 11.0256 13.1529, 10.4844 10.3982, 9.92793 7.64419, 9.354799999999999 4.89109, 8.76356 2.13933, 8.15259 -0.610669, 7.52004 -3.35845, 6.86378 -6.10351, 6.18148 -8.84531, 5.47042 -11.5833, 4.72753 -14.3167, 3.94931 -17.0449, 3.13168 -19.767, 2.27001 -22.4823, 1.35889 -25.1895, 0.391996 -27.8877, -1.58535913750526e-17 -28.9106162913118, -0.638007 -30.5755, -1.73984 -33.2513, -2.92374 -35.9134, -4.20191 -38.5596, -5.58907 -41.1874, -7.10275 -43.7937, -8.764329999999999 -46.3747, -10.5999 -48.9259, -12.6412 -51.4414, -14.9275 -53.914, -17.507 -56.3345, -20.439 -58.6909, -23.7966 -60.9679, -27.6668 -63.1455, -32.152 -65.19799999999999, -37.3654 -67.0917, -43.4168 -68.78449999999999, -50.3885 -70.22490000000001, -58.2891 -71.3545, -67.0013 -72.1147, -76.2486 -72.45699999999999, -85.62050000000001 -72.3575, -94.67270000000001 -71.8235, -103.046 -70.89100000000001, -110.537 -69.61490000000001, -117.09 -68.0545, -122.753 -66.2659, -127.626 -64.29649999999999, -131.823 -62.1843, -135.452 -59.9593, -138.609 -57.6445, -141.375 -55.2577, -143.817 -52.8126, -145.988 -50.3197, -147.933 -47.7873, -149.687 -45.2221, -151.279 -42.6291, -152.734 -40.0127, -154.07 -37.3762, -155.304 -34.7225, -156.45 -32.054, -157.519 -29.3725, -158.519 -26.6797, -159.461 -23.9772, -160.349 -21.2661, -161.19 -18.5475, -161.99 -15.8224, -162.752 -13.0917, -163.48 -10.356, -164.178 -7.61612, -164.848 -4.87265, -165.493 -2.12617, -166.116 0.622808, -166.718 3.37379, -167.301 6.12633, -167.866 8.88003, -168.416 11.6345, -168.951 14.3894, -169.472 17.1444, -169.98 19.8993, -170.476 22.6537, -170.962 25.4074, -171.437 28.1602, -171.902 30.9119, -172.358 33.6624, -172.804 36.4115, -173.243 39.1592, -173.672 41.9052, -174.094 44.6496, -174.507 47.3922, -174.911 50.1332, -175.306 52.8724, -175.692 55.6099, -176.066 58.3458, -176.428 61.08, -176.774 63.8127, -177.101 66.5438, -177.402 69.2736, -177.667 72.0021, -177.879 74.72929999999999, -178.002 77.45529999999999, -177.966 80.1801, -177.59 82.90309999999999, -176.24 85.05115000000001, -180 85.05115000000001, -180 1.00238056249997, -179.875 0.446529, -179.262 -2.32895, -178.658 -5.10475, -178.061 -7.88054, -177.47 -10.656, -176.883 -13.4309, -176.298 -16.2049, -175.714 -18.9777, -175.128 -21.7491, -174.539 -24.519, -173.944 -27.287, -173.341 -30.053, -172.728 -32.8167, -172.102 -35.578, -171.458 -38.3367, -170.794 -41.0925, -170.103 -43.8454, -169.381 -46.595, -168.618 -49.3411, -167.806 -52.0834, -166.932 -54.8214, -165.98 -57.5547, -164.926 -60.2825, -163.74 -63.0038, -162.376 -65.717, -160.767 -68.4198, -158.809 -71.10850000000001, -156.33 -73.7769, -153.032 -76.41379999999999, -148.345 -78.99769999999999, -141.084 -81.4808, -128.539 -83.74339999999999, -104.938 -85.05115000000001))'"
      ]
     },
     "execution_count": 15,
     "metadata": {},
     "output_type": "execute_result"
    }
   ],
   "source": [
    "s3_wkt"
   ]
  },
  {
   "cell_type": "code",
   "execution_count": 16,
   "metadata": {},
   "outputs": [],
   "source": [
    "aoi_wkt = loads(aoi['value']).wkt"
   ]
  },
  {
   "cell_type": "code",
   "execution_count": 17,
   "metadata": {},
   "outputs": [
    {
     "data": {
      "text/plain": [
       "'POLYGON ((21.5 18.39, 37.82 18.39, 37.82 -2.09, 21.5 -2.09, 21.5 18.39))'"
      ]
     },
     "execution_count": 17,
     "metadata": {},
     "output_type": "execute_result"
    }
   ],
   "source": [
    "aoi_wkt"
   ]
  },
  {
   "cell_type": "markdown",
   "metadata": {},
   "source": [
    "### Import Sentinel-3 SLSTR product"
   ]
  },
  {
   "cell_type": "code",
   "execution_count": 18,
   "metadata": {},
   "outputs": [],
   "source": [
    "operators = ['Read',\n",
    "             'Subset',\n",
    "             'Reproject',\n",
    "             'Write']"
   ]
  },
  {
   "cell_type": "code",
   "execution_count": 19,
   "metadata": {},
   "outputs": [],
   "source": [
    "read = dict()\n",
    "\n",
    "s3_path = item.assets['metadata'].get_absolute_href()\n",
    "\n",
    "read['file'] =  s3_path\n",
    "read['formatName'] = 'Sen3'\n",
    "\n",
    "subset = dict()\n",
    "subset['geoRegion'] = aoi_wkt\n",
    "subset['copyMetadata'] = 'true'\n",
    "subset['fullSwath'] = 'true'\n",
    "\n",
    "reproject = dict()\n",
    "reproject['crs'] = 'EPSG:4326'\n",
    "\n",
    "write = dict()\n",
    "write['file'] = 's3_slstr'"
   ]
  },
  {
   "cell_type": "code",
   "execution_count": 20,
   "metadata": {},
   "outputs": [
    {
     "data": {
      "text/html": [
       "<style type=\"text/css\">.highlight .hll { background-color: #ffffcc }\n",
       ".highlight  { background: #f8f8f8; }\n",
       ".highlight .c { color: #408080; font-style: italic } /* Comment */\n",
       ".highlight .err { border: 1px solid #FF0000 } /* Error */\n",
       ".highlight .k { color: #008000; font-weight: bold } /* Keyword */\n",
       ".highlight .o { color: #666666 } /* Operator */\n",
       ".highlight .ch { color: #408080; font-style: italic } /* Comment.Hashbang */\n",
       ".highlight .cm { color: #408080; font-style: italic } /* Comment.Multiline */\n",
       ".highlight .cp { color: #BC7A00 } /* Comment.Preproc */\n",
       ".highlight .cpf { color: #408080; font-style: italic } /* Comment.PreprocFile */\n",
       ".highlight .c1 { color: #408080; font-style: italic } /* Comment.Single */\n",
       ".highlight .cs { color: #408080; font-style: italic } /* Comment.Special */\n",
       ".highlight .gd { color: #A00000 } /* Generic.Deleted */\n",
       ".highlight .ge { font-style: italic } /* Generic.Emph */\n",
       ".highlight .gr { color: #FF0000 } /* Generic.Error */\n",
       ".highlight .gh { color: #000080; font-weight: bold } /* Generic.Heading */\n",
       ".highlight .gi { color: #00A000 } /* Generic.Inserted */\n",
       ".highlight .go { color: #888888 } /* Generic.Output */\n",
       ".highlight .gp { color: #000080; font-weight: bold } /* Generic.Prompt */\n",
       ".highlight .gs { font-weight: bold } /* Generic.Strong */\n",
       ".highlight .gu { color: #800080; font-weight: bold } /* Generic.Subheading */\n",
       ".highlight .gt { color: #0044DD } /* Generic.Traceback */\n",
       ".highlight .kc { color: #008000; font-weight: bold } /* Keyword.Constant */\n",
       ".highlight .kd { color: #008000; font-weight: bold } /* Keyword.Declaration */\n",
       ".highlight .kn { color: #008000; font-weight: bold } /* Keyword.Namespace */\n",
       ".highlight .kp { color: #008000 } /* Keyword.Pseudo */\n",
       ".highlight .kr { color: #008000; font-weight: bold } /* Keyword.Reserved */\n",
       ".highlight .kt { color: #B00040 } /* Keyword.Type */\n",
       ".highlight .m { color: #666666 } /* Literal.Number */\n",
       ".highlight .s { color: #BA2121 } /* Literal.String */\n",
       ".highlight .na { color: #7D9029 } /* Name.Attribute */\n",
       ".highlight .nb { color: #008000 } /* Name.Builtin */\n",
       ".highlight .nc { color: #0000FF; font-weight: bold } /* Name.Class */\n",
       ".highlight .no { color: #880000 } /* Name.Constant */\n",
       ".highlight .nd { color: #AA22FF } /* Name.Decorator */\n",
       ".highlight .ni { color: #999999; font-weight: bold } /* Name.Entity */\n",
       ".highlight .ne { color: #D2413A; font-weight: bold } /* Name.Exception */\n",
       ".highlight .nf { color: #0000FF } /* Name.Function */\n",
       ".highlight .nl { color: #A0A000 } /* Name.Label */\n",
       ".highlight .nn { color: #0000FF; font-weight: bold } /* Name.Namespace */\n",
       ".highlight .nt { color: #008000; font-weight: bold } /* Name.Tag */\n",
       ".highlight .nv { color: #19177C } /* Name.Variable */\n",
       ".highlight .ow { color: #AA22FF; font-weight: bold } /* Operator.Word */\n",
       ".highlight .w { color: #bbbbbb } /* Text.Whitespace */\n",
       ".highlight .mb { color: #666666 } /* Literal.Number.Bin */\n",
       ".highlight .mf { color: #666666 } /* Literal.Number.Float */\n",
       ".highlight .mh { color: #666666 } /* Literal.Number.Hex */\n",
       ".highlight .mi { color: #666666 } /* Literal.Number.Integer */\n",
       ".highlight .mo { color: #666666 } /* Literal.Number.Oct */\n",
       ".highlight .sa { color: #BA2121 } /* Literal.String.Affix */\n",
       ".highlight .sb { color: #BA2121 } /* Literal.String.Backtick */\n",
       ".highlight .sc { color: #BA2121 } /* Literal.String.Char */\n",
       ".highlight .dl { color: #BA2121 } /* Literal.String.Delimiter */\n",
       ".highlight .sd { color: #BA2121; font-style: italic } /* Literal.String.Doc */\n",
       ".highlight .s2 { color: #BA2121 } /* Literal.String.Double */\n",
       ".highlight .se { color: #BB6622; font-weight: bold } /* Literal.String.Escape */\n",
       ".highlight .sh { color: #BA2121 } /* Literal.String.Heredoc */\n",
       ".highlight .si { color: #BB6688; font-weight: bold } /* Literal.String.Interpol */\n",
       ".highlight .sx { color: #008000 } /* Literal.String.Other */\n",
       ".highlight .sr { color: #BB6688 } /* Literal.String.Regex */\n",
       ".highlight .s1 { color: #BA2121 } /* Literal.String.Single */\n",
       ".highlight .ss { color: #19177C } /* Literal.String.Symbol */\n",
       ".highlight .bp { color: #008000 } /* Name.Builtin.Pseudo */\n",
       ".highlight .fm { color: #0000FF } /* Name.Function.Magic */\n",
       ".highlight .vc { color: #19177C } /* Name.Variable.Class */\n",
       ".highlight .vg { color: #19177C } /* Name.Variable.Global */\n",
       ".highlight .vi { color: #19177C } /* Name.Variable.Instance */\n",
       ".highlight .vm { color: #19177C } /* Name.Variable.Magic */\n",
       ".highlight .il { color: #666666 } /* Literal.Number.Integer.Long */</style>    <div class=\"highlight\"><pre><span></span><span class=\"nt\">&lt;graph&gt;</span>\n",
       "  <span class=\"nt\">&lt;version&gt;</span>1.0<span class=\"nt\">&lt;/version&gt;</span>\n",
       "  <span class=\"nt\">&lt;node</span> <span class=\"na\">id=</span><span class=\"s\">&quot;Read&quot;</span><span class=\"nt\">&gt;</span>\n",
       "    <span class=\"nt\">&lt;operator&gt;</span>Read<span class=\"nt\">&lt;/operator&gt;</span>\n",
       "    <span class=\"nt\">&lt;sources/&gt;</span>\n",
       "    <span class=\"nt\">&lt;parameters</span> <span class=\"na\">class=</span><span class=\"s\">&quot;com.bc.ceres.binding.dom.XppDomElement&quot;</span><span class=\"nt\">&gt;</span>\n",
       "      <span class=\"nt\">&lt;file&gt;</span>/workspace/data/s3/input_reference/S3A_SL_2_LST____20190107T082459_20190107T100558_20190108T183657_6059_040_064______LN2_O_NT_003/S3A_SL_2_LST____20190107T082459_20190107T100558_20190108T183657_6059_040_064______LN2_O_NT_003/S3A_SL_2_LST____20190107T082459_20190107T100558_20190108T183657_6059_040_064______LN2_O_NT_003.SEN3/xfdumanifest.xml<span class=\"nt\">&lt;/file&gt;</span>\n",
       "      <span class=\"nt\">&lt;formatName&gt;</span>Sen3<span class=\"nt\">&lt;/formatName&gt;</span>\n",
       "    <span class=\"nt\">&lt;/parameters&gt;</span>\n",
       "  <span class=\"nt\">&lt;/node&gt;</span>\n",
       "  <span class=\"nt\">&lt;node</span> <span class=\"na\">id=</span><span class=\"s\">&quot;Subset&quot;</span><span class=\"nt\">&gt;</span>\n",
       "    <span class=\"nt\">&lt;operator&gt;</span>Subset<span class=\"nt\">&lt;/operator&gt;</span>\n",
       "    <span class=\"nt\">&lt;sources&gt;</span>\n",
       "      <span class=\"nt\">&lt;sourceProduct</span> <span class=\"na\">refid=</span><span class=\"s\">&quot;Read&quot;</span><span class=\"nt\">/&gt;</span>\n",
       "    <span class=\"nt\">&lt;/sources&gt;</span>\n",
       "    <span class=\"nt\">&lt;parameters</span> <span class=\"na\">class=</span><span class=\"s\">&quot;com.bc.ceres.binding.dom.XppDomElement&quot;</span><span class=\"nt\">&gt;</span>\n",
       "      <span class=\"nt\">&lt;bandNames/&gt;</span>\n",
       "      <span class=\"nt\">&lt;region/&gt;</span>\n",
       "      <span class=\"nt\">&lt;referenceBand/&gt;</span>\n",
       "      <span class=\"nt\">&lt;geoRegion&gt;</span>POLYGON ((21.5 18.39, 37.82 18.39, 37.82 -2.09, 21.5 -2.09, 21.5 18.39))<span class=\"nt\">&lt;/geoRegion&gt;</span>\n",
       "      <span class=\"nt\">&lt;subSamplingX&gt;</span>1<span class=\"nt\">&lt;/subSamplingX&gt;</span>\n",
       "      <span class=\"nt\">&lt;subSamplingY&gt;</span>1<span class=\"nt\">&lt;/subSamplingY&gt;</span>\n",
       "      <span class=\"nt\">&lt;fullSwath&gt;</span>true<span class=\"nt\">&lt;/fullSwath&gt;</span>\n",
       "      <span class=\"nt\">&lt;tiePointGridNames/&gt;</span>\n",
       "      <span class=\"nt\">&lt;copyMetadata&gt;</span>true<span class=\"nt\">&lt;/copyMetadata&gt;</span>\n",
       "    <span class=\"nt\">&lt;/parameters&gt;</span>\n",
       "  <span class=\"nt\">&lt;/node&gt;</span>\n",
       "  <span class=\"nt\">&lt;node</span> <span class=\"na\">id=</span><span class=\"s\">&quot;Reproject&quot;</span><span class=\"nt\">&gt;</span>\n",
       "    <span class=\"nt\">&lt;operator&gt;</span>Reproject<span class=\"nt\">&lt;/operator&gt;</span>\n",
       "    <span class=\"nt\">&lt;sources&gt;</span>\n",
       "      <span class=\"nt\">&lt;sourceProduct</span> <span class=\"na\">refid=</span><span class=\"s\">&quot;Subset&quot;</span><span class=\"nt\">/&gt;</span>\n",
       "    <span class=\"nt\">&lt;/sources&gt;</span>\n",
       "    <span class=\"nt\">&lt;parameters</span> <span class=\"na\">class=</span><span class=\"s\">&quot;com.bc.ceres.binding.dom.XppDomElement&quot;</span><span class=\"nt\">&gt;</span>\n",
       "      <span class=\"nt\">&lt;wktFile/&gt;</span>\n",
       "      <span class=\"nt\">&lt;crs&gt;</span>EPSG:4326<span class=\"nt\">&lt;/crs&gt;</span>\n",
       "      <span class=\"nt\">&lt;resamplingName&gt;</span>Nearest<span class=\"nt\">&lt;/resamplingName&gt;</span>\n",
       "      <span class=\"nt\">&lt;referencePixelX/&gt;</span>\n",
       "      <span class=\"nt\">&lt;referencePixelY/&gt;</span>\n",
       "      <span class=\"nt\">&lt;easting/&gt;</span>\n",
       "      <span class=\"nt\">&lt;northing/&gt;</span>\n",
       "      <span class=\"nt\">&lt;orientation&gt;</span>0<span class=\"nt\">&lt;/orientation&gt;</span>\n",
       "      <span class=\"nt\">&lt;pixelSizeX/&gt;</span>\n",
       "      <span class=\"nt\">&lt;pixelSizeY/&gt;</span>\n",
       "      <span class=\"nt\">&lt;width/&gt;</span>\n",
       "      <span class=\"nt\">&lt;height/&gt;</span>\n",
       "      <span class=\"nt\">&lt;tileSizeX/&gt;</span>\n",
       "      <span class=\"nt\">&lt;tileSizeY/&gt;</span>\n",
       "      <span class=\"nt\">&lt;orthorectify&gt;</span>false<span class=\"nt\">&lt;/orthorectify&gt;</span>\n",
       "      <span class=\"nt\">&lt;elevationModelName/&gt;</span>\n",
       "      <span class=\"nt\">&lt;noDataValue/&gt;</span>\n",
       "      <span class=\"nt\">&lt;includeTiePointGrids&gt;</span>true<span class=\"nt\">&lt;/includeTiePointGrids&gt;</span>\n",
       "      <span class=\"nt\">&lt;addDeltaBands&gt;</span>false<span class=\"nt\">&lt;/addDeltaBands&gt;</span>\n",
       "    <span class=\"nt\">&lt;/parameters&gt;</span>\n",
       "  <span class=\"nt\">&lt;/node&gt;</span>\n",
       "  <span class=\"nt\">&lt;node</span> <span class=\"na\">id=</span><span class=\"s\">&quot;Write&quot;</span><span class=\"nt\">&gt;</span>\n",
       "    <span class=\"nt\">&lt;operator&gt;</span>Write<span class=\"nt\">&lt;/operator&gt;</span>\n",
       "    <span class=\"nt\">&lt;sources&gt;</span>\n",
       "      <span class=\"nt\">&lt;sourceProduct</span> <span class=\"na\">refid=</span><span class=\"s\">&quot;Reproject&quot;</span><span class=\"nt\">/&gt;</span>\n",
       "    <span class=\"nt\">&lt;/sources&gt;</span>\n",
       "    <span class=\"nt\">&lt;parameters</span> <span class=\"na\">class=</span><span class=\"s\">&quot;com.bc.ceres.binding.dom.XppDomElement&quot;</span><span class=\"nt\">&gt;</span>\n",
       "      <span class=\"nt\">&lt;file&gt;</span>s3_slstr<span class=\"nt\">&lt;/file&gt;</span>\n",
       "      <span class=\"nt\">&lt;formatName&gt;</span>BEAM-DIMAP<span class=\"nt\">&lt;/formatName&gt;</span>\n",
       "      <span class=\"nt\">&lt;deleteOutputOnFailure&gt;</span>true<span class=\"nt\">&lt;/deleteOutputOnFailure&gt;</span>\n",
       "      <span class=\"nt\">&lt;writeEntireTileRows&gt;</span>true<span class=\"nt\">&lt;/writeEntireTileRows&gt;</span>\n",
       "      <span class=\"nt\">&lt;clearCacheAfterRowWrite&gt;</span>false<span class=\"nt\">&lt;/clearCacheAfterRowWrite&gt;</span>\n",
       "    <span class=\"nt\">&lt;/parameters&gt;</span>\n",
       "  <span class=\"nt\">&lt;/node&gt;</span>\n",
       "<span class=\"nt\">&lt;/graph&gt;</span>\n",
       "</pre></div>\n"
      ],
      "text/plain": [
       "<IPython.core.display.HTML object>"
      ]
     },
     "metadata": {},
     "output_type": "display_data"
    },
    {
     "data": {
      "text/plain": [
       "0"
      ]
     },
     "execution_count": 20,
     "metadata": {},
     "output_type": "execute_result"
    }
   ],
   "source": [
    "snap_graph(os.environ['GPT_BIN'],\n",
    "           operators,\n",
    "           Subset=subset,\n",
    "           Read=read, \n",
    "           Reproject=reproject,\n",
    "           Write=write)"
   ]
  },
  {
   "cell_type": "code",
   "execution_count": null,
   "metadata": {},
   "outputs": [],
   "source": []
  },
  {
   "cell_type": "code",
   "execution_count": 21,
   "metadata": {},
   "outputs": [],
   "source": [
    "def s3_to_tile(input_tif, item, tile):\n",
    "    \n",
    "    translate_options = gdal.TranslateOptions(gdal.ParseCommandLine(\"-co TILED=YES -co COPY_SRC_OVERVIEWS=YES -co COMPRESS=LZW\"))\n",
    "        \n",
    "    x_min, y_min, x_max, y_max = tile.tile.bounds\n",
    "\n",
    "    output_tile_name = '{}_L{}_C{}_R{}'.format(item.id,\n",
    "                                                    tile.level,\n",
    "                                                    tile.col,\n",
    "                                                    tile.row)\n",
    "\n",
    "\n",
    "    gdal.Translate('tmp_{}.tif'.format(output_tile_name),\n",
    "                   input_tif,\n",
    "                   projWin=[x_min, y_max, x_max, y_min],\n",
    "                   projWinSRS='EPSG:4326',\n",
    "                   xRes=0.008714267406038, \n",
    "                   yRes=0.008714267406038,\n",
    "                   resampleAlg='bilinear')\n",
    "\n",
    "    ds = gdal.Open('tmp_{}.tif'.format(output_tile_name),\n",
    "                   gdal.OF_READONLY)\n",
    "\n",
    "    gdal.SetConfigOption('COMPRESS_OVERVIEW', 'DEFLATE')\n",
    "    ds.BuildOverviews('NEAREST', [2,4,8,16,32])\n",
    "    ds = None\n",
    "\n",
    "    ds = gdal.Open('tmp_{}.tif'.format(output_tile_name))\n",
    "    ds = gdal.Translate('{}.tif'.format(output_tile_name), ds, options=translate_options)\n",
    "    ds = None\n",
    "\n",
    "    band_names = ['LST', 'NDVI', 'Land mask', 'Cloud mask']\n",
    "\n",
    "    ds = gdal.Open('{}.tif'.format(output_tile_name), gdal.GA_Update)\n",
    "\n",
    "    \n",
    "    for index in range(ds.RasterCount):\n",
    "\n",
    "        srcband = ds.GetRasterBand(index+1)\n",
    "\n",
    "        srcband.SetDescription(band_names[index])\n",
    "\n",
    "        # if NDVI band set noData value as 255\n",
    "        if index == 1:\n",
    "            \n",
    "            srcband.SetNoDataValue(255)\n",
    "    \n",
    "    ds.FlushCache()\n",
    "\n",
    "    ds = None\n",
    "    ###Drop generated tiles where land is less than Threshold=0.05\n",
    "    ds = gdal.Open('{}.tif'.format(output_tile_name), gdal.GA_Update)\n",
    "    land_mask = np.array(ds.GetRasterBand(3).ReadAsArray(), dtype= np.uint8)\n",
    "    \n",
    "    \n",
    "    if np.count_nonzero(land_mask)/land_mask.size < 0.05 : \n",
    "        print('removed {}.tif\\n'.format(output_tile_name))\n",
    "        print('land percentage {}\\n ********\\n '.format(np.count_nonzero(land_mask)/land_mask.size))\n",
    "        os.remove('{}.tif'.format(output_tile_name))\n",
    "    else: \n",
    "        ndvi_tmp=ds.GetRasterBand(2).ReadAsArray()\n",
    "        cloud_tmp = np.array(ds.GetRasterBand(4).ReadAsArray(), dtype= np.uint8)\n",
    "        # If land_mask=0 set data to noData\n",
    "    \n",
    "        masked_data = lambda x,y: 255 if y==0  or x>1 or x<-1 else x\n",
    "        vfunc_masked = np.vectorize(masked_data, otypes=[np.float])\n",
    "    \n",
    "        updated_ndvi_data = vfunc_masked(ndvi_tmp, land_mask)\n",
    "        if updated_ndvi_data.max()==updated_ndvi_data.min():\n",
    "            os.remove('{}.tif'.format(output_tile_name))\n",
    "            print('removed {}.tif\\n'.format(output_tile_name))\n",
    "            print('land percentage {} OK but ndvi min {} and ndvi max {}\\n ********\\n '.format(np.count_nonzero(land_mask)/land_mask.size,updated_ndvi_data.min(),updated_ndvi_data.max()))\n",
    "        else:\n",
    "    \n",
    "            ds.GetRasterBand(2).WriteArray(updated_ndvi_data)\n",
    "            #Render the land & cloud masks boolean on borders\n",
    "            ds.GetRasterBand(3).WriteArray(land_mask)\n",
    "            ds.GetRasterBand(4).WriteArray(cloud_tmp)\n",
    "            with open(output_tile_name + '.properties', 'w') as file:\n",
    "\n",
    "                file.write('title=Tile L:{1} C:{2} R:{3} {0}\\n'.format(item.id,\n",
    "                                                                  tile.level, \n",
    "                                                                  tile.col, \n",
    "                                                                  tile.row))\n",
    "\n",
    "                date='{}/{}'.format(item.datetime.strftime('%Y-%m-%dT%H:%M:%SZ'), \n",
    "                                             item.datetime.strftime('%Y-%m-%dT%H:%M:%SZ'))\n",
    "\n",
    "                file.write('date={}\\n'.format(date))\n",
    "\n",
    "                file.write('geometry={0}'.format(tile.tile.wkt))\n",
    "\n",
    "\n",
    "    for f in ['tmp_{}.tif'.format(output_tile_name), 'tmp_{}.tif.ovr'.format(output_tile_name)]:\n",
    "\n",
    "        if os.path.exists(f):\n",
    "\n",
    "            os.remove(f)\n",
    "    \n",
    "    return True\n",
    "    "
   ]
  },
  {
   "cell_type": "markdown",
   "metadata": {},
   "source": [
    "### Tiling"
   ]
  },
  {
   "cell_type": "code",
   "execution_count": 22,
   "metadata": {},
   "outputs": [],
   "source": [
    "bands = [os.path.join('s3_slstr.data', '{}.img'.format(band)) for band in ['LST', 'NDVI', 'cloud_in', 'confidence_in']]\n",
    "        \n",
    "s3_data = read_s3(bands)\n",
    "        "
   ]
  },
  {
   "cell_type": "code",
   "execution_count": 23,
   "metadata": {},
   "outputs": [
    {
     "data": {
      "text/plain": [
       "['s3_slstr.data/LST.img',\n",
       " 's3_slstr.data/NDVI.img',\n",
       " 's3_slstr.data/cloud_in.img',\n",
       " 's3_slstr.data/confidence_in.img']"
      ]
     },
     "execution_count": 23,
     "metadata": {},
     "output_type": "execute_result"
    }
   ],
   "source": [
    "bands"
   ]
  },
  {
   "cell_type": "code",
   "execution_count": 24,
   "metadata": {},
   "outputs": [],
   "source": [
    "ds = gdal.Open(bands[0])\n",
    "\n",
    "geo_transform = ds.GetGeoTransform()\n",
    "projection_ref = ds.GetProjectionRef()\n",
    "    "
   ]
  },
  {
   "cell_type": "code",
   "execution_count": 25,
   "metadata": {},
   "outputs": [],
   "source": [
    "lst = s3_data[:,:,0]\n",
    "ndvi = s3_data[:,:,1]\n",
    "cloud = s3_data[:,:,2]\n",
    "confidence = s3_data[:,:,3]"
   ]
  },
  {
   "cell_type": "code",
   "execution_count": 26,
   "metadata": {},
   "outputs": [
    {
     "data": {
      "text/plain": [
       "array([[-32768., -32768., -32768., ..., -32768., -32768., -32768.],\n",
       "       [-32768., -32768., -32768., ..., -32768., -32768., -32768.],\n",
       "       [-32768., -32768., -32768., ..., -32768., -32768., -32768.],\n",
       "       ...,\n",
       "       [-32768., -32768., -32768., ..., -32768., -32768., -32768.],\n",
       "       [-32768., -32768., -32768., ..., -32768., -32768., -32768.],\n",
       "       [-32768., -32768., -32768., ..., -32768., -32768., -32768.]],\n",
       "      dtype=float32)"
      ]
     },
     "execution_count": 26,
     "metadata": {},
     "output_type": "execute_result"
    }
   ],
   "source": [
    "ndvi"
   ]
  },
  {
   "cell_type": "code",
   "execution_count": 27,
   "metadata": {},
   "outputs": [],
   "source": [
    "mask = get_slstr_confidence_mask('land', confidence)"
   ]
  },
  {
   "cell_type": "code",
   "execution_count": 28,
   "metadata": {},
   "outputs": [],
   "source": [
    "cloud_mask =  get_slstr_mask('gross_cloud', cloud)"
   ]
  },
  {
   "cell_type": "code",
   "execution_count": 29,
   "metadata": {},
   "outputs": [],
   "source": [
    "range_trimming = lambda x,y,z: 255 if y==0 or z==1 or x>1 or x<-1 else x\n",
    "vfunc_range_trimming = np.vectorize(range_trimming,otypes=[np.float])\n",
    "    \n",
    "ndvi_filtered=vfunc_range_trimming(ndvi,mask,cloud_mask)"
   ]
  },
  {
   "cell_type": "code",
   "execution_count": 30,
   "metadata": {},
   "outputs": [],
   "source": [
    "output_name = 'temp_sls_trimed.tif'"
   ]
  },
  {
   "cell_type": "code",
   "execution_count": 31,
   "metadata": {},
   "outputs": [],
   "source": [
    "driver = gdal.GetDriverByName('GTiff')\n",
    "\n",
    "output = driver.Create(output_name, \n",
    "                       lst.shape[1], \n",
    "                       lst.shape[0], \n",
    "                       4, \n",
    "                       gdal.GDT_Float32)\n",
    "\n",
    "output.SetGeoTransform(geo_transform)\n",
    "output.SetProjection(projection_ref)\n",
    "output.GetRasterBand(1).WriteArray(lst)\n",
    "output.GetRasterBand(2).WriteArray(ndvi_filtered)\n",
    "output.GetRasterBand(3).WriteArray(mask)\n",
    "output.GetRasterBand(4).WriteArray(cloud_mask)\n",
    "\n",
    "output.FlushCache()\n",
    "\n",
    "output = None"
   ]
  },
  {
   "cell_type": "code",
   "execution_count": 32,
   "metadata": {},
   "outputs": [],
   "source": [
    "\n",
    "tiles = s3_tiles(loads(aoi['value']), int(tiling_level['value']))"
   ]
  },
  {
   "cell_type": "code",
   "execution_count": 33,
   "metadata": {},
   "outputs": [
    {
     "data": {
      "text/html": [
       "<div>\n",
       "<style scoped>\n",
       "    .dataframe tbody tr th:only-of-type {\n",
       "        vertical-align: middle;\n",
       "    }\n",
       "\n",
       "    .dataframe tbody tr th {\n",
       "        vertical-align: top;\n",
       "    }\n",
       "\n",
       "    .dataframe thead th {\n",
       "        text-align: right;\n",
       "    }\n",
       "</style>\n",
       "<table border=\"1\" class=\"dataframe\">\n",
       "  <thead>\n",
       "    <tr style=\"text-align: right;\">\n",
       "      <th></th>\n",
       "      <th>col</th>\n",
       "      <th>row</th>\n",
       "      <th>level</th>\n",
       "      <th>s3_tile</th>\n",
       "      <th>tile</th>\n",
       "    </tr>\n",
       "  </thead>\n",
       "  <tbody>\n",
       "    <tr>\n",
       "      <th>0</th>\n",
       "      <td>18</td>\n",
       "      <td>7</td>\n",
       "      <td>4</td>\n",
       "      <td>POLYGON ((33.75000 -2.09000, 22.50000 -2.09000...</td>\n",
       "      <td>POLYGON ((33.75000 -11.25000, 33.75000 0.00000...</td>\n",
       "    </tr>\n",
       "    <tr>\n",
       "      <th>1</th>\n",
       "      <td>19</td>\n",
       "      <td>7</td>\n",
       "      <td>4</td>\n",
       "      <td>POLYGON ((37.82000 0.00000, 37.82000 -2.09000,...</td>\n",
       "      <td>POLYGON ((45.00000 -11.25000, 45.00000 0.00000...</td>\n",
       "    </tr>\n",
       "    <tr>\n",
       "      <th>2</th>\n",
       "      <td>17</td>\n",
       "      <td>7</td>\n",
       "      <td>4</td>\n",
       "      <td>POLYGON ((22.50000 -2.09000, 21.50000 -2.09000...</td>\n",
       "      <td>POLYGON ((22.50000 -11.25000, 22.50000 0.00000...</td>\n",
       "    </tr>\n",
       "    <tr>\n",
       "      <th>3</th>\n",
       "      <td>18</td>\n",
       "      <td>8</td>\n",
       "      <td>4</td>\n",
       "      <td>POLYGON ((33.75000 0.00000, 22.50000 0.00000, ...</td>\n",
       "      <td>POLYGON ((33.75000 0.00000, 33.75000 11.25000,...</td>\n",
       "    </tr>\n",
       "    <tr>\n",
       "      <th>4</th>\n",
       "      <td>17</td>\n",
       "      <td>8</td>\n",
       "      <td>4</td>\n",
       "      <td>POLYGON ((21.50000 0.00000, 21.50000 11.25000,...</td>\n",
       "      <td>POLYGON ((22.50000 0.00000, 22.50000 11.25000,...</td>\n",
       "    </tr>\n",
       "    <tr>\n",
       "      <th>5</th>\n",
       "      <td>19</td>\n",
       "      <td>8</td>\n",
       "      <td>4</td>\n",
       "      <td>POLYGON ((37.82000 11.25000, 37.82000 0.00000,...</td>\n",
       "      <td>POLYGON ((45.00000 0.00000, 45.00000 11.25000,...</td>\n",
       "    </tr>\n",
       "    <tr>\n",
       "      <th>6</th>\n",
       "      <td>19</td>\n",
       "      <td>9</td>\n",
       "      <td>4</td>\n",
       "      <td>POLYGON ((33.75000 18.39000, 37.82000 18.39000...</td>\n",
       "      <td>POLYGON ((45.00000 11.25000, 45.00000 22.50000...</td>\n",
       "    </tr>\n",
       "    <tr>\n",
       "      <th>7</th>\n",
       "      <td>18</td>\n",
       "      <td>9</td>\n",
       "      <td>4</td>\n",
       "      <td>POLYGON ((22.50000 18.39000, 33.75000 18.39000...</td>\n",
       "      <td>POLYGON ((33.75000 11.25000, 33.75000 22.50000...</td>\n",
       "    </tr>\n",
       "    <tr>\n",
       "      <th>8</th>\n",
       "      <td>17</td>\n",
       "      <td>9</td>\n",
       "      <td>4</td>\n",
       "      <td>POLYGON ((21.50000 18.39000, 22.50000 18.39000...</td>\n",
       "      <td>POLYGON ((22.50000 11.25000, 22.50000 22.50000...</td>\n",
       "    </tr>\n",
       "  </tbody>\n",
       "</table>\n",
       "</div>"
      ],
      "text/plain": [
       "   col  row  level                                            s3_tile  \\\n",
       "0   18    7      4  POLYGON ((33.75000 -2.09000, 22.50000 -2.09000...   \n",
       "1   19    7      4  POLYGON ((37.82000 0.00000, 37.82000 -2.09000,...   \n",
       "2   17    7      4  POLYGON ((22.50000 -2.09000, 21.50000 -2.09000...   \n",
       "3   18    8      4  POLYGON ((33.75000 0.00000, 22.50000 0.00000, ...   \n",
       "4   17    8      4  POLYGON ((21.50000 0.00000, 21.50000 11.25000,...   \n",
       "5   19    8      4  POLYGON ((37.82000 11.25000, 37.82000 0.00000,...   \n",
       "6   19    9      4  POLYGON ((33.75000 18.39000, 37.82000 18.39000...   \n",
       "7   18    9      4  POLYGON ((22.50000 18.39000, 33.75000 18.39000...   \n",
       "8   17    9      4  POLYGON ((21.50000 18.39000, 22.50000 18.39000...   \n",
       "\n",
       "                                                tile  \n",
       "0  POLYGON ((33.75000 -11.25000, 33.75000 0.00000...  \n",
       "1  POLYGON ((45.00000 -11.25000, 45.00000 0.00000...  \n",
       "2  POLYGON ((22.50000 -11.25000, 22.50000 0.00000...  \n",
       "3  POLYGON ((33.75000 0.00000, 33.75000 11.25000,...  \n",
       "4  POLYGON ((22.50000 0.00000, 22.50000 11.25000,...  \n",
       "5  POLYGON ((45.00000 0.00000, 45.00000 11.25000,...  \n",
       "6  POLYGON ((45.00000 11.25000, 45.00000 22.50000...  \n",
       "7  POLYGON ((33.75000 11.25000, 33.75000 22.50000...  \n",
       "8  POLYGON ((22.50000 11.25000, 22.50000 22.50000...  "
      ]
     },
     "execution_count": 33,
     "metadata": {},
     "output_type": "execute_result"
    }
   ],
   "source": [
    "tiles"
   ]
  },
  {
   "cell_type": "code",
   "execution_count": 34,
   "metadata": {},
   "outputs": [
    {
     "name": "stdout",
     "output_type": "stream",
     "text": [
      "removed S3A_SL_2_LST____20190107T082459_20190107T100558_20190108T183657_6059_040_064______LN2_O_NT_003_L4_C18_R7.tif\n",
      "\n",
      "land percentage 0.0\n",
      " ********\n",
      " \n",
      "removed S3A_SL_2_LST____20190107T082459_20190107T100558_20190108T183657_6059_040_064______LN2_O_NT_003_L4_C19_R7.tif\n",
      "\n",
      "land percentage 0.0\n",
      " ********\n",
      " \n",
      "removed S3A_SL_2_LST____20190107T082459_20190107T100558_20190108T183657_6059_040_064______LN2_O_NT_003_L4_C17_R7.tif\n",
      "\n",
      "land percentage 0.0\n",
      " ********\n",
      " \n",
      "removed S3A_SL_2_LST____20190107T082459_20190107T100558_20190108T183657_6059_040_064______LN2_O_NT_003_L4_C19_R8.tif\n",
      "\n",
      "land percentage 0.0\n",
      " ********\n",
      " \n",
      "removed S3A_SL_2_LST____20190107T082459_20190107T100558_20190108T183657_6059_040_064______LN2_O_NT_003_L4_C19_R9.tif\n",
      "\n",
      "land percentage 0.0\n",
      " ********\n",
      " \n"
     ]
    }
   ],
   "source": [
    "for index, tile in tiles.iterrows():\n",
    "    \n",
    "    logging.info('Tile L{} C{} R{}'.format(tile.level,\n",
    "                                       tile.col,\n",
    "                                       tile.row))\n",
    "\n",
    "\n",
    "    s3_to_tile(output_name, item, tile)"
   ]
  },
  {
   "cell_type": "code",
   "execution_count": 35,
   "metadata": {},
   "outputs": [],
   "source": [
    "logging.info('Clean-up') \n",
    "os.remove(output_name)\n",
    "\n",
    "shutil.rmtree('s3_slstr.data')\n",
    "os.remove('s3_slstr.dim')\n",
    "\n",
    "time.sleep(45)\n",
    "\n",
    "for f in glob.glob('./*.tif.aux.xml'):\n",
    "\n",
    "    os.remove(f)\n"
   ]
  },
  {
   "cell_type": "markdown",
   "metadata": {},
   "source": [
    "### License"
   ]
  },
  {
   "cell_type": "markdown",
   "metadata": {},
   "source": [
    "This work is licenced under a [Attribution-ShareAlike 4.0 International License (CC BY-SA 4.0)](http://creativecommons.org/licenses/by-sa/4.0/) \n",
    "\n",
    "YOU ARE FREE TO:\n",
    "\n",
    "* Share - copy and redistribute the material in any medium or format.\n",
    "* Adapt - remix, transform, and built upon the material for any purpose, even commercially.\n",
    "\n",
    "UNDER THE FOLLOWING TERMS:\n",
    "\n",
    "* Attribution - You must give appropriate credit, provide a link to the license, and indicate if changes were made. You may do so in any reasonable manner, but not in any way that suggests the licensor endorses you or your use.\n",
    "* ShareAlike - If you remix, transform, or build upon the material, you must distribute your contributions under the same license as the original."
   ]
  },
  {
   "cell_type": "markdown",
   "metadata": {},
   "source": [
    "opensearch-client -a better-wfp-03-01-02:AKCp5ekcV3gx7bZTjNLsoYF8Gbm2zYCGmEMQ4JcZVSfTPHeSXBt9Zf9Sky8Z1moLCQXAJ4kN7  -p count=unlimited https://catalog.terradue.com/better-wfp-03-01-02/search identifier"
   ]
  },
  {
   "cell_type": "markdown",
   "metadata": {},
   "source": [
    "for uid in  $(opensearch-client -a better-wfp-03-01-02:AKCp5ekcV3gx7bZTjNLsoYF8Gbm2zYCGmEMQ4JcZVSfTPHeSXBt9Zf9Sky8Z1moLCQXAJ4kN7 -p count=unlimited https://catalog.terradue.com/better-wfp-03-01-02/search identifier); do curl -u better-wfp-03-01-02:AKCp5ekcV3gx7bZTjNLsoYF8Gbm2zYCGmEMQ4JcZVSfTPHeSXBt9Zf9Sky8Z1moLCQXAJ4kN7 -X DELETE \"https://catalog.terradue.com/better-wfp-03-01-02/query?uid=${uid}\";done "
   ]
  }
 ],
 "metadata": {
  "kernelspec": {
   "display_name": "Python env_s3",
   "language": "python",
   "name": "env_s3"
  },
  "language_info": {
   "codemirror_mode": {
    "name": "ipython",
    "version": 3
   },
   "file_extension": ".py",
   "mimetype": "text/x-python",
   "name": "python",
   "nbconvert_exporter": "python",
   "pygments_lexer": "ipython3",
   "version": "3.7.7"
  }
 },
 "nbformat": 4,
 "nbformat_minor": 4
}
